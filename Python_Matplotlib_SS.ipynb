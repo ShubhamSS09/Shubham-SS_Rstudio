{
  "nbformat": 4,
  "nbformat_minor": 0,
  "metadata": {
    "colab": {
      "name": "Python_Matplotlib_SS.ipynb",
      "provenance": [],
      "authorship_tag": "ABX9TyMiBDp/IQ5TN4VX1ev8O3tJ",
      "include_colab_link": true
    },
    "kernelspec": {
      "name": "python3",
      "display_name": "Python 3"
    },
    "language_info": {
      "name": "python"
    }
  },
  "cells": [
    {
      "cell_type": "markdown",
      "metadata": {
        "id": "view-in-github",
        "colab_type": "text"
      },
      "source": [
        "<a href=\"https://colab.research.google.com/github/ShubhamSS09/Shubham-SS_Rstudio/blob/main/Python_Matplotlib_SS.ipynb\" target=\"_parent\"><img src=\"https://colab.research.google.com/assets/colab-badge.svg\" alt=\"Open In Colab\"/></a>"
      ]
    },
    {
      "cell_type": "code",
      "execution_count": 4,
      "metadata": {
        "id": "GILc3DYXC767"
      },
      "outputs": [],
      "source": [
        "import matplotlib.pyplot as plt\n",
        "#import matplotlib (plt is allias name)"
      ]
    },
    {
      "cell_type": "code",
      "source": [
        "#matplotlib to render plots in notebook (Only usefull in Jupyter notebook)\n",
        "%matplotlib inline"
      ],
      "metadata": {
        "id": "eoO2h-LvDkZV"
      },
      "execution_count": 3,
      "outputs": []
    },
    {
      "cell_type": "code",
      "source": [
        "x = [-3, 5, 7]"
      ],
      "metadata": {
        "id": "8g59I6KpD4W0"
      },
      "execution_count": 5,
      "outputs": []
    },
    {
      "cell_type": "code",
      "source": [
        "y = [10, 2, 5]"
      ],
      "metadata": {
        "id": "_u5oaEZ1EEzk"
      },
      "execution_count": 6,
      "outputs": []
    },
    {
      "cell_type": "markdown",
      "source": [
        "##Run One by one command"
      ],
      "metadata": {
        "id": "Pb5LtqUeGlqi"
      }
    },
    {
      "cell_type": "code",
      "source": [
        "fig = plt.figure(figsize=(15, 3))\n",
        "plt.plot(x, y)\n",
        "plt.xlim(0,10)   #limits the X axis\n",
        "plt.ylim(-3, 8)  #limits the Y axis"
      ],
      "metadata": {
        "colab": {
          "base_uri": "https://localhost:8080/",
          "height": 233
        },
        "id": "R28n2palFryJ",
        "outputId": "8e337449-276e-4580-bc76-ce0934b21320"
      },
      "execution_count": 11,
      "outputs": [
        {
          "output_type": "execute_result",
          "data": {
            "text/plain": [
              "(-3.0, 8.0)"
            ]
          },
          "metadata": {},
          "execution_count": 11
        },
        {
          "output_type": "display_data",
          "data": {
            "image/png": "[encoded data removed]",
            "text/plain": [
              "<Figure size 1080x216 with 1 Axes>"
            ]
          },
          "metadata": {
            "needs_background": "light"
          }
        }
      ]
    }
  ]
}
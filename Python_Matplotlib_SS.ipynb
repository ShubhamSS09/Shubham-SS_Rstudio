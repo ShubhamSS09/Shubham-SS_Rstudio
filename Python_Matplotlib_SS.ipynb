{
  "nbformat": 4,
  "nbformat_minor": 0,
  "metadata": {
    "colab": {
      "name": "Python_Matplotlib_SS.ipynb",
      "provenance": [],
      "authorship_tag": "ABX9TyOHRJ6LoW3v/wTfrUkHjV4z",
      "include_colab_link": true
    },
    "kernelspec": {
      "name": "python3",
      "display_name": "Python 3"
    },
    "language_info": {
      "name": "python"
    }
  },
  "cells": [
    {
      "cell_type": "markdown",
      "metadata": {
        "id": "view-in-github",
        "colab_type": "text"
      },
      "source": [
        "<a href=\"https://colab.research.google.com/github/ShubhamSS09/Shubham-SS_Rstudio/blob/main/Python_Matplotlib_SS.ipynb\" target=\"_parent\"><img src=\"https://colab.research.google.com/assets/colab-badge.svg\" alt=\"Open In Colab\"/></a>"
      ]
    },
    {
      "cell_type": "code",
      "execution_count": 1,
      "metadata": {
        "id": "GILc3DYXC767"
      },
      "outputs": [],
      "source": [
        "import matplotlib.pyplot as plt\n",
        "#import matplotlib (plt is allias name)"
      ]
    },
    {
      "cell_type": "code",
      "source": [
        "#matplotlib to render plots in notebook (Only usefull in Jupyter notebook)\n",
        "%matplotlib inline"
      ],
      "metadata": {
        "id": "eoO2h-LvDkZV"
      },
      "execution_count": 6,
      "outputs": []
    },
    {
      "cell_type": "code",
      "source": [
        "x = [-3, 5, 7]"
      ],
      "metadata": {
        "id": "8g59I6KpD4W0"
      },
      "execution_count": 2,
      "outputs": []
    },
    {
      "cell_type": "code",
      "source": [
        "y = [10, 2, 5]"
      ],
      "metadata": {
        "id": "_u5oaEZ1EEzk"
      },
      "execution_count": 4,
      "outputs": []
    },
    {
      "cell_type": "markdown",
      "source": [
        "##Run One by one command"
      ],
      "metadata": {
        "id": "Pb5LtqUeGlqi"
      }
    },
    {
      "cell_type": "code",
      "source": [
        "fig = plt.figure(figsize=(15, 3))\n",
        "plt.plot(x, y)\n",
        "plt.xlim(0,10)   #limits the X axis\n",
        "plt.ylim(-3, 8)  #limits the Y axis\n",
        "plt.xlabel('X Axis')\n",
        "plt.ylabel('Y Axis')\n",
        "plt.title('Line Plot')\n",
        "plt.suptitle('Sales Comparision', size=20, y=1.03)"
      ],
      "metadata": {
        "colab": {
          "base_uri": "https://localhost:8080/",
          "height": 275
        },
        "id": "R28n2palFryJ",
        "outputId": "2a2c6faf-5ca3-48e1-f59d-8892871848af"
      },
      "execution_count": 12,
      "outputs": [
        {
          "output_type": "execute_result",
          "data": {
            "text/plain": [
              "Text(0.5, 1.03, 'Sales Comparision')"
            ]
          },
          "metadata": {},
          "execution_count": 12
        },
        {
          "output_type": "display_data",
          "data": {
            "image/png": "[encoded data removed]",
            "text/plain": [
              "<Figure size 1080x216 with 1 Axes>"
            ]
          },
          "metadata": {
            "needs_background": "light"
          }
        }
      ]
    }
  ]
}
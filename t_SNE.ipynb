{
  "nbformat": 4,
  "nbformat_minor": 0,
  "metadata": {
    "colab": {
      "name": "t-SNE.ipynb",
      "provenance": [],
      "authorship_tag": "ABX9TyNTlfd1LjREm2EcZx/9JVxi",
      "include_colab_link": true
    },
    "kernelspec": {
      "name": "python3",
      "display_name": "Python 3"
    },
    "language_info": {
      "name": "python"
    }
  },
  "cells": [
    {
      "cell_type": "markdown",
      "metadata": {
        "id": "view-in-github",
        "colab_type": "text"
      },
      "source": [
        "<a href=\"https://colab.research.google.com/github/ShubhamSS09/Shubham-SS_Rstudio/blob/main/t_SNE.ipynb\" target=\"_parent\"><img src=\"https://colab.research.google.com/assets/colab-badge.svg\" alt=\"Open In Colab\"/></a>"
      ]
    },
    {
      "cell_type": "code",
      "execution_count": 1,
      "metadata": {
        "colab": {
          "base_uri": "https://localhost:8080/"
        },
        "id": "0UE_PKA7TH-j",
        "outputId": "7695a13c-763e-4d03-dedc-3cac287f0185"
      },
      "outputs": [
        {
          "output_type": "stream",
          "name": "stdout",
          "text": [
            "Collecting bioinfokit\n",
            "  Downloading bioinfokit-2.0.8.tar.gz (84 kB)\n",
            "\u001b[?25l\r\u001b[K     |███▉                            | 10 kB 27.1 MB/s eta 0:00:01\r\u001b[K     |███████▊                        | 20 kB 12.6 MB/s eta 0:00:01\r\u001b[K     |███████████▋                    | 30 kB 7.3 MB/s eta 0:00:01\r\u001b[K     |███████████████▌                | 40 kB 3.8 MB/s eta 0:00:01\r\u001b[K     |███████████████████▍            | 51 kB 3.7 MB/s eta 0:00:01\r\u001b[K     |███████████████████████▎        | 61 kB 4.3 MB/s eta 0:00:01\r\u001b[K     |███████████████████████████     | 71 kB 4.5 MB/s eta 0:00:01\r\u001b[K     |███████████████████████████████ | 81 kB 5.1 MB/s eta 0:00:01\r\u001b[K     |████████████████████████████████| 84 kB 2.2 MB/s \n",
            "\u001b[?25hRequirement already satisfied: pandas in /usr/local/lib/python3.7/dist-packages (from bioinfokit) (1.3.5)\n",
            "Requirement already satisfied: numpy in /usr/local/lib/python3.7/dist-packages (from bioinfokit) (1.21.6)\n",
            "Requirement already satisfied: matplotlib in /usr/local/lib/python3.7/dist-packages (from bioinfokit) (3.2.2)\n",
            "Requirement already satisfied: scipy in /usr/local/lib/python3.7/dist-packages (from bioinfokit) (1.4.1)\n",
            "Requirement already satisfied: scikit-learn in /usr/local/lib/python3.7/dist-packages (from bioinfokit) (1.0.2)\n",
            "Requirement already satisfied: seaborn in /usr/local/lib/python3.7/dist-packages (from bioinfokit) (0.11.2)\n",
            "Requirement already satisfied: matplotlib-venn in /usr/local/lib/python3.7/dist-packages (from bioinfokit) (0.11.7)\n",
            "Requirement already satisfied: tabulate in /usr/local/lib/python3.7/dist-packages (from bioinfokit) (0.8.9)\n",
            "Requirement already satisfied: statsmodels in /usr/local/lib/python3.7/dist-packages (from bioinfokit) (0.10.2)\n",
            "Collecting textwrap3\n",
            "  Downloading textwrap3-0.9.2-py2.py3-none-any.whl (12 kB)\n",
            "Collecting adjustText\n",
            "  Downloading adjustText-0.7.3.tar.gz (7.5 kB)\n",
            "Requirement already satisfied: cycler>=0.10 in /usr/local/lib/python3.7/dist-packages (from matplotlib->bioinfokit) (0.11.0)\n",
            "Requirement already satisfied: python-dateutil>=2.1 in /usr/local/lib/python3.7/dist-packages (from matplotlib->bioinfokit) (2.8.2)\n",
            "Requirement already satisfied: pyparsing!=2.0.4,!=2.1.2,!=2.1.6,>=2.0.1 in /usr/local/lib/python3.7/dist-packages (from matplotlib->bioinfokit) (3.0.9)\n",
            "Requirement already satisfied: kiwisolver>=1.0.1 in /usr/local/lib/python3.7/dist-packages (from matplotlib->bioinfokit) (1.4.2)\n",
            "Requirement already satisfied: typing-extensions in /usr/local/lib/python3.7/dist-packages (from kiwisolver>=1.0.1->matplotlib->bioinfokit) (4.2.0)\n",
            "Requirement already satisfied: six>=1.5 in /usr/local/lib/python3.7/dist-packages (from python-dateutil>=2.1->matplotlib->bioinfokit) (1.15.0)\n",
            "Requirement already satisfied: pytz>=2017.3 in /usr/local/lib/python3.7/dist-packages (from pandas->bioinfokit) (2022.1)\n",
            "Requirement already satisfied: joblib>=0.11 in /usr/local/lib/python3.7/dist-packages (from scikit-learn->bioinfokit) (1.1.0)\n",
            "Requirement already satisfied: threadpoolctl>=2.0.0 in /usr/local/lib/python3.7/dist-packages (from scikit-learn->bioinfokit) (3.1.0)\n",
            "Requirement already satisfied: patsy>=0.4.0 in /usr/local/lib/python3.7/dist-packages (from statsmodels->bioinfokit) (0.5.2)\n",
            "Building wheels for collected packages: bioinfokit, adjustText\n",
            "  Building wheel for bioinfokit (setup.py) ... \u001b[?25l\u001b[?25hdone\n",
            "  Created wheel for bioinfokit: filename=bioinfokit-2.0.8-py3-none-any.whl size=56750 sha256=3af762d64b8e8ea071217e75d4d44a19f1a8da9d4266532d2830c2681b2098c9\n",
            "  Stored in directory: /root/.cache/pip/wheels/0d/b0/a4/2be59655e33c889f2197d43e99ed077f05a6559e24ce28e21a\n",
            "  Building wheel for adjustText (setup.py) ... \u001b[?25l\u001b[?25hdone\n",
            "  Created wheel for adjustText: filename=adjustText-0.7.3-py3-none-any.whl size=7097 sha256=c992e1b0274ae724d9574e66686e93e3933a0b00798ea6f8e857c6dda8fe1a8d\n",
            "  Stored in directory: /root/.cache/pip/wheels/2f/98/32/afbf902d8f040fadfdf0a44357e4ab750afe165d873bf5893d\n",
            "Successfully built bioinfokit adjustText\n",
            "Installing collected packages: textwrap3, adjustText, bioinfokit\n",
            "Successfully installed adjustText-0.7.3 bioinfokit-2.0.8 textwrap3-0.9.2\n"
          ]
        }
      ],
      "source": [
        "!pip install bioinfokit"
      ]
    },
    {
      "cell_type": "code",
      "source": [
        "from pandas import read_csv\n",
        "import pandas as pd\n",
        "\n",
        "from sklearn.manifold import TSNE\n",
        "from bioinfokit.visuz import cluster"
      ],
      "metadata": {
        "id": "0vvwhIkYT01r"
      },
      "execution_count": 2,
      "outputs": []
    },
    {
      "cell_type": "code",
      "source": [
        "filename = 'TSNE_data.csv'\n",
        "dataframe = pd.read_csv(filename)"
      ],
      "metadata": {
        "id": "G1BtaeO2U10a"
      },
      "execution_count": 3,
      "outputs": []
    },
    {
      "cell_type": "code",
      "source": [
        "#save data for patients M & B (tumor types)in X & Y\n",
        "array= dataframe.values\n",
        "#separte arrat into i.p & o/p components\n",
        "X = array[:,1:]\n",
        "Y = array[:,0]"
      ],
      "metadata": {
        "id": "Imy1MjU9VnSO"
      },
      "execution_count": 4,
      "outputs": []
    },
    {
      "cell_type": "code",
      "source": [
        "#TSNE visualization\n",
        "from bioinfokit.visuz import cluster\n",
        "\n",
        "data_tsne = TSNE(n_components=2).fit_transform(X)\n",
        "cluster.tsneplot(score=data_tsne)"
      ],
      "metadata": {
        "colab": {
          "base_uri": "https://localhost:8080/"
        },
        "id": "mDy_JD28WJm4",
        "outputId": "0313db42-78ad-4d5e-976e-20fdb13e6eb7"
      },
      "execution_count": 8,
      "outputs": [
        {
          "output_type": "stream",
          "name": "stderr",
          "text": [
            "/usr/local/lib/python3.7/dist-packages/sklearn/manifold/_t_sne.py:783: FutureWarning: The default initialization in TSNE will change from 'random' to 'pca' in 1.2.\n",
            "  FutureWarning,\n",
            "/usr/local/lib/python3.7/dist-packages/sklearn/manifold/_t_sne.py:793: FutureWarning: The default learning rate in TSNE will change from 200.0 to 'auto' in 1.2.\n",
            "  FutureWarning,\n"
          ]
        }
      ]
    },
    {
      "cell_type": "code",
      "source": [
        "# get a list of categories\n",
        "color_class = dataframe['diagnosis'].to_numpy()\n",
        "cluster.tsneplot(score=data_tsne, colorlist=color_class, legendpos='upper right',legendanchor=(1.15, 1))\n",
        "\n",
        "#Plot will be stored in the default directory"
      ],
      "metadata": {
        "id": "0Qb9yxXJW9GH"
      },
      "execution_count": 10,
      "outputs": []
    },
    {
      "cell_type": "code",
      "source": [
        "data_tsne"
      ],
      "metadata": {
        "colab": {
          "base_uri": "https://localhost:8080/"
        },
        "id": "UQW8XQ_oJ4t2",
        "outputId": "a4018e30-61b1-4dc6-f600-52b48bc1b337"
      },
      "execution_count": 11,
      "outputs": [
        {
          "output_type": "execute_result",
          "data": {
            "text/plain": [
              "array([[26.487213, 14.317561],\n",
              "       [28.00011 , 14.038456],\n",
              "       [27.25865 ,  9.191084],\n",
              "       ...,\n",
              "       [21.084827, -8.474363],\n",
              "       [27.646358, 11.701495],\n",
              "       [-9.977027, 34.26665 ]], dtype=float32)"
            ]
          },
          "metadata": {},
          "execution_count": 11
        }
      ]
    }
  ]
}
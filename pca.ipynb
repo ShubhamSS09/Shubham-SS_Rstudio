{
  "nbformat": 4,
  "nbformat_minor": 0,
  "metadata": {
    "colab": {
      "name": "pca.ipynb",
      "provenance": [],
      "collapsed_sections": [],
      "authorship_tag": "ABX9TyOTyaToIkyX/NkUgSLqWzXF",
      "include_colab_link": true
    },
    "kernelspec": {
      "name": "python3",
      "display_name": "Python 3"
    },
    "language_info": {
      "name": "python"
    }
  },
  "cells": [
    {
      "cell_type": "markdown",
      "metadata": {
        "id": "view-in-github",
        "colab_type": "text"
      },
      "source": [
        "<a href=\"https://colab.research.google.com/github/ShubhamSS09/Shubham-SS_Rstudio/blob/main/pca.ipynb\" target=\"_parent\"><img src=\"https://colab.research.google.com/assets/colab-badge.svg\" alt=\"Open In Colab\"/></a>"
      ]
    },
    {
      "cell_type": "code",
      "execution_count": null,
      "metadata": {
        "id": "UPeL_G-u9i3Y"
      },
      "outputs": [],
      "source": [
        "import pandas as pd\n",
        "import numpy as np\n",
        "from sklearn.decomposition import PCA\n",
        "import matplotlib.pyplot as plt\n",
        "from sklearn.preprocessing import scale"
      ]
    },
    {
      "cell_type": "code",
      "source": [
        "uni= pd.read_csv('PCA.csv')\n",
        "uni.describe()\n",
        "uni.head()"
      ],
      "metadata": {
        "colab": {
          "base_uri": "https://localhost:8080/",
          "height": 206
        },
        "id": "rz3dRDan97lt",
        "outputId": "a7f8c6f9-9dc1-4194-9f6d-a57c7e3ab9b4"
      },
      "execution_count": null,
      "outputs": [
        {
          "output_type": "execute_result",
          "data": {
            "text/plain": [
              "       Univ   SAT  Top10  Accept  SFRatio  Expenses  GradRate\n",
              "0     Brown  1310     89      22       13     22704        94\n",
              "1   CalTech  1415    100      25        6     63575        81\n",
              "2       CMU  1260     62      59        9     25026        72\n",
              "3  Columbia  1310     76      24       12     31510        88\n",
              "4   Cornell  1280     83      33       13     21864        90"
            ],
            "text/html": [
              "\n",
              "  <div id=\"df-c564358a-a1b1-4996-9a8d-bb259ea4f270\">\n",
              "    <div class=\"colab-df-container\">\n",
              "      <div>\n",
              "<style scoped>\n",
              "    .dataframe tbody tr th:only-of-type {\n",
              "        vertical-align: middle;\n",
              "    }\n",
              "\n",
              "    .dataframe tbody tr th {\n",
              "        vertical-align: top;\n",
              "    }\n",
              "\n",
              "    .dataframe thead th {\n",
              "        text-align: right;\n",
              "    }\n",
              "</style>\n",
              "<table border=\"1\" class=\"dataframe\">\n",
              "  <thead>\n",
              "    <tr style=\"text-align: right;\">\n",
              "      <th></th>\n",
              "      <th>Univ</th>\n",
              "      <th>SAT</th>\n",
              "      <th>Top10</th>\n",
              "      <th>Accept</th>\n",
              "      <th>SFRatio</th>\n",
              "      <th>Expenses</th>\n",
              "      <th>GradRate</th>\n",
              "    </tr>\n",
              "  </thead>\n",
              "  <tbody>\n",
              "    <tr>\n",
              "      <th>0</th>\n",
              "      <td>Brown</td>\n",
              "      <td>1310</td>\n",
              "      <td>89</td>\n",
              "      <td>22</td>\n",
              "      <td>13</td>\n",
              "      <td>22704</td>\n",
              "      <td>94</td>\n",
              "    </tr>\n",
              "    <tr>\n",
              "      <th>1</th>\n",
              "      <td>CalTech</td>\n",
              "      <td>1415</td>\n",
              "      <td>100</td>\n",
              "      <td>25</td>\n",
              "      <td>6</td>\n",
              "      <td>63575</td>\n",
              "      <td>81</td>\n",
              "    </tr>\n",
              "    <tr>\n",
              "      <th>2</th>\n",
              "      <td>CMU</td>\n",
              "      <td>1260</td>\n",
              "      <td>62</td>\n",
              "      <td>59</td>\n",
              "      <td>9</td>\n",
              "      <td>25026</td>\n",
              "      <td>72</td>\n",
              "    </tr>\n",
              "    <tr>\n",
              "      <th>3</th>\n",
              "      <td>Columbia</td>\n",
              "      <td>1310</td>\n",
              "      <td>76</td>\n",
              "      <td>24</td>\n",
              "      <td>12</td>\n",
              "      <td>31510</td>\n",
              "      <td>88</td>\n",
              "    </tr>\n",
              "    <tr>\n",
              "      <th>4</th>\n",
              "      <td>Cornell</td>\n",
              "      <td>1280</td>\n",
              "      <td>83</td>\n",
              "      <td>33</td>\n",
              "      <td>13</td>\n",
              "      <td>21864</td>\n",
              "      <td>90</td>\n",
              "    </tr>\n",
              "  </tbody>\n",
              "</table>\n",
              "</div>\n",
              "      <button class=\"colab-df-convert\" onclick=\"convertToInteractive('df-c564358a-a1b1-4996-9a8d-bb259ea4f270')\"\n",
              "              title=\"Convert this dataframe to an interactive table.\"\n",
              "              style=\"display:none;\">\n",
              "        \n",
              "  <svg xmlns=\"http://www.w3.org/2000/svg\" height=\"24px\"viewBox=\"0 0 24 24\"\n",
              "       width=\"24px\">\n",
              "    <path d=\"M0 0h24v24H0V0z\" fill=\"none\"/>\n",
              "    <path d=\"M18.56 5.44l.94 2.06.94-2.06 2.06-.94-2.06-.94-.94-2.06-.94 2.06-2.06.94zm-11 1L8.5 8.5l.94-2.06 2.06-.94-2.06-.94L8.5 2.5l-.94 2.06-2.06.94zm10 10l.94 2.06.94-2.06 2.06-.94-2.06-.94-.94-2.06-.94 2.06-2.06.94z\"/><path d=\"M17.41 7.96l-1.37-1.37c-.4-.4-.92-.59-1.43-.59-.52 0-1.04.2-1.43.59L10.3 9.45l-7.72 7.72c-.78.78-.78 2.05 0 2.83L4 21.41c.39.39.9.59 1.41.59.51 0 1.02-.2 1.41-.59l7.78-7.78 2.81-2.81c.8-.78.8-2.07 0-2.86zM5.41 20L4 18.59l7.72-7.72 1.47 1.35L5.41 20z\"/>\n",
              "  </svg>\n",
              "      </button>\n",
              "      \n",
              "  <style>\n",
              "    .colab-df-container {\n",
              "      display:flex;\n",
              "      flex-wrap:wrap;\n",
              "      gap: 12px;\n",
              "    }\n",
              "\n",
              "    .colab-df-convert {\n",
              "      background-color: #E8F0FE;\n",
              "      border: none;\n",
              "      border-radius: 50%;\n",
              "      cursor: pointer;\n",
              "      display: none;\n",
              "      fill: #1967D2;\n",
              "      height: 32px;\n",
              "      padding: 0 0 0 0;\n",
              "      width: 32px;\n",
              "    }\n",
              "\n",
              "    .colab-df-convert:hover {\n",
              "      background-color: #E2EBFA;\n",
              "      box-shadow: 0px 1px 2px rgba(60, 64, 67, 0.3), 0px 1px 3px 1px rgba(60, 64, 67, 0.15);\n",
              "      fill: #174EA6;\n",
              "    }\n",
              "\n",
              "    [theme=dark] .colab-df-convert {\n",
              "      background-color: #3B4455;\n",
              "      fill: #D2E3FC;\n",
              "    }\n",
              "\n",
              "    [theme=dark] .colab-df-convert:hover {\n",
              "      background-color: #434B5C;\n",
              "      box-shadow: 0px 1px 3px 1px rgba(0, 0, 0, 0.15);\n",
              "      filter: drop-shadow(0px 1px 2px rgba(0, 0, 0, 0.3));\n",
              "      fill: #FFFFFF;\n",
              "    }\n",
              "  </style>\n",
              "\n",
              "      <script>\n",
              "        const buttonEl =\n",
              "          document.querySelector('#df-c564358a-a1b1-4996-9a8d-bb259ea4f270 button.colab-df-convert');\n",
              "        buttonEl.style.display =\n",
              "          google.colab.kernel.accessAllowed ? 'block' : 'none';\n",
              "\n",
              "        async function convertToInteractive(key) {\n",
              "          const element = document.querySelector('#df-c564358a-a1b1-4996-9a8d-bb259ea4f270');\n",
              "          const dataTable =\n",
              "            await google.colab.kernel.invokeFunction('convertToInteractive',\n",
              "                                                     [key], {});\n",
              "          if (!dataTable) return;\n",
              "\n",
              "          const docLinkHtml = 'Like what you see? Visit the ' +\n",
              "            '<a target=\"_blank\" href=https://colab.research.google.com/notebooks/data_table.ipynb>data table notebook</a>'\n",
              "            + ' to learn more about interactive tables.';\n",
              "          element.innerHTML = '';\n",
              "          dataTable['output_type'] = 'display_data';\n",
              "          await google.colab.output.renderOutput(dataTable, element);\n",
              "          const docLink = document.createElement('div');\n",
              "          docLink.innerHTML = docLinkHtml;\n",
              "          element.appendChild(docLink);\n",
              "        }\n",
              "      </script>\n",
              "    </div>\n",
              "  </div>\n",
              "  "
            ]
          },
          "metadata": {},
          "execution_count": 4
        }
      ]
    },
    {
      "cell_type": "code",
      "source": [
        "#For applying the the scaling we need numerical data\n",
        "#Considering only numerical data\n",
        "uni.data = uni.iloc[:,1:]\n",
        "uni.data.head()\n",
        "\n",
        "#Convert it into numpy array\n",
        "UNI= uni.data.values\n",
        "UNI"
      ],
      "metadata": {
        "colab": {
          "base_uri": "https://localhost:8080/"
        },
        "id": "wBCgNdy6-c-W",
        "outputId": "dd628a07-c541-4536-cabb-67258169df9f"
      },
      "execution_count": null,
      "outputs": [
        {
          "output_type": "execute_result",
          "data": {
            "text/plain": [
              "array([[ 1310,    89,    22,    13, 22704,    94],\n",
              "       [ 1415,   100,    25,     6, 63575,    81],\n",
              "       [ 1260,    62,    59,     9, 25026,    72],\n",
              "       [ 1310,    76,    24,    12, 31510,    88],\n",
              "       [ 1280,    83,    33,    13, 21864,    90],\n",
              "       [ 1340,    89,    23,    10, 32162,    95],\n",
              "       [ 1315,    90,    30,    12, 31585,    95],\n",
              "       [ 1255,    74,    24,    12, 20126,    92],\n",
              "       [ 1400,    91,    14,    11, 39525,    97],\n",
              "       [ 1305,    75,    44,     7, 58691,    87],\n",
              "       [ 1380,    94,    30,    10, 34870,    91],\n",
              "       [ 1260,    85,    39,    11, 28052,    89],\n",
              "       [ 1255,    81,    42,    13, 15122,    94],\n",
              "       [ 1081,    38,    54,    18, 10185,    80],\n",
              "       [ 1375,    91,    14,     8, 30220,    95],\n",
              "       [ 1005,    28,    90,    19,  9066,    69],\n",
              "       [ 1360,    90,    20,    12, 36450,    93],\n",
              "       [ 1075,    49,    67,    25,  8704,    67],\n",
              "       [ 1240,    95,    40,    17, 15140,    78],\n",
              "       [ 1290,    75,    50,    13, 38380,    87],\n",
              "       [ 1180,    65,    68,    16, 15470,    85],\n",
              "       [ 1285,    80,    36,    11, 27553,    90],\n",
              "       [ 1225,    77,    44,    14, 13349,    92],\n",
              "       [ 1085,    40,    69,    15, 11857,    71],\n",
              "       [ 1375,    95,    19,    11, 43514,    96]])"
            ]
          },
          "metadata": {},
          "execution_count": 6
        }
      ]
    },
    {
      "cell_type": "code",
      "source": [
        "#Normalizing the data\n",
        "uni_normal = scale (UNI)"
      ],
      "metadata": {
        "id": "S4eusoxH_Iyv"
      },
      "execution_count": null,
      "outputs": []
    },
    {
      "cell_type": "code",
      "source": [
        "uni_normal"
      ],
      "metadata": {
        "colab": {
          "base_uri": "https://localhost:8080/"
        },
        "id": "zZH2y6uT_ihL",
        "outputId": "e04d3f98-bdaa-4410-9281-45776f644b49"
      },
      "execution_count": null,
      "outputs": [
        {
          "output_type": "execute_result",
          "data": {
            "text/plain": [
              "array([[ 0.41028362,  0.6575195 , -0.88986682,  0.07026045, -0.33141256,\n",
              "         0.82030265],\n",
              "       [ 1.39925928,  1.23521235, -0.73465749, -1.68625071,  2.56038138,\n",
              "        -0.64452351],\n",
              "       [-0.06065717, -0.76045386,  1.02438157, -0.93346022, -0.16712136,\n",
              "        -1.65863393],\n",
              "       [ 0.41028362, -0.02520842, -0.78639393, -0.18066972,  0.29164871,\n",
              "         0.14422904],\n",
              "       [ 0.12771914,  0.34241431, -0.32076595,  0.07026045, -0.39084607,\n",
              "         0.36958691],\n",
              "       [ 0.69284809,  0.6575195 , -0.83813038, -0.68253005,  0.33778044,\n",
              "         0.93298158],\n",
              "       [ 0.4573777 ,  0.71003703, -0.47597528, -0.18066972,  0.29695528,\n",
              "         0.93298158],\n",
              "       [-0.10775125, -0.13024348, -0.78639393, -0.18066972, -0.51381683,\n",
              "         0.59494478],\n",
              "       [ 1.25797704,  0.76255456, -1.30375836, -0.43159988,  0.85874344,\n",
              "         1.15833946],\n",
              "       [ 0.36318954, -0.07772595,  0.24833493, -1.43532055,  2.21481798,\n",
              "         0.0315501 ],\n",
              "       [ 1.06960072,  0.92010716, -0.47597528, -0.68253005,  0.52938275,\n",
              "         0.48226584],\n",
              "       [-0.06065717,  0.44744937, -0.01034729, -0.43159988,  0.04698077,\n",
              "         0.25690797],\n",
              "       [-0.10775125,  0.23737924,  0.14486204,  0.07026045, -0.86787073,\n",
              "         0.82030265],\n",
              "       [-1.7466252 , -2.02087462,  0.76569936,  1.32491127, -1.21718409,\n",
              "        -0.75720245],\n",
              "       [ 1.02250664,  0.76255456, -1.30375836, -1.18439038,  0.20037583,\n",
              "         0.93298158],\n",
              "       [-2.46245521, -2.54604994,  2.6282113 ,  1.57584144, -1.29635802,\n",
              "        -1.99667073],\n",
              "       [ 0.88122441,  0.71003703, -0.9933397 , -0.18066972,  0.64117435,\n",
              "         0.70762371],\n",
              "       [-1.8031381 , -1.44318177,  1.43827311,  3.08142243, -1.32197103,\n",
              "        -2.22202861],\n",
              "       [-0.24903349,  0.97262469,  0.04138915,  1.07398111, -0.86659715,\n",
              "        -0.98256032],\n",
              "       [ 0.2219073 , -0.07772595,  0.55875358,  0.07026045,  0.77772991,\n",
              "         0.0315501 ],\n",
              "       [-0.81416244, -0.60290126,  1.49000956,  0.82305094, -0.84324827,\n",
              "        -0.19380777],\n",
              "       [ 0.17481322,  0.18486171, -0.16555662, -0.43159988,  0.01167444,\n",
              "         0.36958691],\n",
              "       [-0.39031573,  0.02730912,  0.24833493,  0.32119061, -0.99331788,\n",
              "         0.59494478],\n",
              "       [-1.70894994, -1.91583956,  1.541746  ,  0.57212078, -1.09888311,\n",
              "        -1.77131286],\n",
              "       [ 1.02250664,  0.97262469, -1.04507615, -0.43159988,  1.14098185,\n",
              "         1.04566052]])"
            ]
          },
          "metadata": {},
          "execution_count": 9
        }
      ]
    },
    {
      "cell_type": "code",
      "source": [
        "pca= PCA()\n",
        "pca_values= pca.fit_transform(uni_normal)\n",
        "pca_values"
      ],
      "metadata": {
        "colab": {
          "base_uri": "https://localhost:8080/"
        },
        "id": "Ow-VsKHk_qnE",
        "outputId": "a95014a0-fd34-4d3d-ab75-b707dcbc7d53"
      },
      "execution_count": null,
      "outputs": [
        {
          "output_type": "execute_result",
          "data": {
            "text/plain": [
              "array([[-1.00987445e+00, -1.06430962e+00,  8.10663051e-02,\n",
              "         5.69506350e-02, -1.28754245e-01, -3.46496377e-02],\n",
              "       [-2.82223781e+00,  2.25904458e+00,  8.36828830e-01,\n",
              "         1.43844644e-01, -1.25961913e-01, -1.80703168e-01],\n",
              "       [ 1.11246577e+00,  1.63120889e+00, -2.66786839e-01,\n",
              "         1.07507502e+00, -1.91814148e-01,  3.45679459e-01],\n",
              "       [-7.41741217e-01, -4.21874699e-02,  6.05008649e-02,\n",
              "        -1.57208116e-01, -5.77611392e-01,  1.09163092e-01],\n",
              "       [-3.11912064e-01, -6.35243572e-01,  1.02405189e-02,\n",
              "         1.71363672e-01,  1.27261287e-02, -1.69212696e-02],\n",
              "       [-1.69669089e+00, -3.44363283e-01, -2.53407507e-01,\n",
              "         1.25643278e-02, -5.26606002e-02, -2.71661600e-02],\n",
              "       [-1.24682093e+00, -4.90983662e-01, -3.20938196e-02,\n",
              "        -2.05643780e-01,  2.93505340e-01, -7.80119838e-02],\n",
              "       [-3.38749784e-01, -7.85168589e-01, -4.93584829e-01,\n",
              "         3.98563085e-02, -5.44978619e-01, -1.55371653e-01],\n",
              "       [-2.37415013e+00, -3.86538883e-01,  1.16098392e-01,\n",
              "        -4.53365617e-01, -2.30108300e-01,  2.66983932e-01],\n",
              "       [-1.40327739e+00,  2.11951503e+00, -4.42827141e-01,\n",
              "        -6.32543273e-01,  2.30053526e-01, -2.35615124e-01],\n",
              "       [-1.72610332e+00,  8.82371161e-02,  1.70403663e-01,\n",
              "         2.60901913e-01,  2.33318380e-01,  2.38968449e-01],\n",
              "       [-4.50857480e-01, -1.11329480e-02, -1.75746046e-01,\n",
              "         2.36165626e-01,  2.63250697e-01, -3.14843521e-01],\n",
              "       [ 4.02381405e-02, -1.00920438e+00, -4.96517167e-01,\n",
              "         2.29298758e-01,  4.48031921e-01,  4.93921533e-03],\n",
              "       [ 3.23373034e+00, -3.74580487e-01, -4.95372816e-01,\n",
              "        -5.21237711e-01, -6.39294809e-01, -9.00477852e-02],\n",
              "       [-2.23626502e+00, -3.71793294e-01, -3.98993653e-01,\n",
              "         4.06966479e-01, -4.16760680e-01,  5.06186327e-02],\n",
              "       [ 5.17299212e+00,  7.79915346e-01, -3.85912331e-01,\n",
              "        -2.32211711e-01,  1.79286976e-01, -3.09046943e-02],\n",
              "       [-1.69964377e+00, -3.05597453e-01,  3.18507851e-01,\n",
              "        -2.97462682e-01, -1.63424678e-01,  1.14422592e-01],\n",
              "       [ 4.57814600e+00, -3.47591363e-01,  1.49964176e+00,\n",
              "        -4.54251714e-01, -1.91141971e-01,  1.04149297e-01],\n",
              "       [ 8.22603117e-01, -6.98906146e-01,  1.42781145e+00,\n",
              "         7.60778800e-01,  1.84260335e-01, -2.51103268e-01],\n",
              "       [-9.77621343e-02,  6.50446454e-01,  1.00508440e-01,\n",
              "        -5.00097185e-01,  4.87217823e-01,  2.19242132e-01],\n",
              "       [ 1.96318260e+00, -2.24767561e-01, -2.55881433e-01,\n",
              "        -4.84741049e-02,  8.22745655e-01,  1.52246521e-01],\n",
              "       [-5.42288939e-01, -7.95888376e-02, -3.05393475e-01,\n",
              "         1.31698758e-01,  5.27399148e-02, -3.67264440e-02],\n",
              "       [ 5.32220920e-01, -1.01716720e+00, -4.23716362e-01,\n",
              "         1.69535706e-01,  3.57813210e-01, -6.60989993e-02],\n",
              "       [ 3.54869664e+00,  7.78461666e-01, -4.49363319e-01,\n",
              "         3.23678618e-01, -3.58332564e-01, -7.74564151e-02],\n",
              "       [-2.30590032e+00, -1.17704318e-01,  2.53988661e-01,\n",
              "        -5.16183372e-01,  5.58940129e-02, -1.07932007e-02]])"
            ]
          },
          "metadata": {},
          "execution_count": 11
        }
      ]
    },
    {
      "cell_type": "code",
      "source": [
        "pca= PCA (n_components = 6)\n",
        "pca_values= pca.fit_transform (uni_normal)"
      ],
      "metadata": {
        "id": "w9xf8UHVAkHb"
      },
      "execution_count": null,
      "outputs": []
    },
    {
      "cell_type": "code",
      "source": [
        ""
      ],
      "metadata": {
        "id": "wV2_a1k0AuaT"
      },
      "execution_count": null,
      "outputs": []
    }
  ]
}
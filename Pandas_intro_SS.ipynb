{
  "nbformat": 4,
  "nbformat_minor": 0,
  "metadata": {
    "colab": {
      "name": "Pandas intro_SS.ipynb",
      "provenance": [],
      "collapsed_sections": [],
      "authorship_tag": "ABX9TyNHMUP1y7eTtG1rL/VaeD+g",
      "include_colab_link": true
    },
    "kernelspec": {
      "name": "python3",
      "display_name": "Python 3"
    },
    "language_info": {
      "name": "python"
    }
  },
  "cells": [
    {
      "cell_type": "markdown",
      "metadata": {
        "id": "view-in-github",
        "colab_type": "text"
      },
      "source": [
        "<a href=\"https://colab.research.google.com/github/ShubhamSS09/Shubham-SS_Rstudio/blob/main/Pandas_intro_SS.ipynb\" target=\"_parent\"><img src=\"https://colab.research.google.com/assets/colab-badge.svg\" alt=\"Open In Colab\"/></a>"
      ]
    },
    {
      "cell_type": "code",
      "metadata": {
        "id": "4FXRGCiOZKQU"
      },
      "source": [
        "import pandas as pd\n",
        "import numpy as np\n",
        "import matplotlib as mpl\n",
        "import seaborn as sns"
      ],
      "execution_count": 2,
      "outputs": []
    },
    {
      "cell_type": "markdown",
      "source": [
        ""
      ],
      "metadata": {
        "id": "uRsgUIBgqMAr"
      }
    },
    {
      "cell_type": "code",
      "source": [
        "df = pd.read_csv(\"Salaries.csv\")"
      ],
      "metadata": {
        "id": "_yv6sNenkfE-"
      },
      "execution_count": 3,
      "outputs": []
    },
    {
      "cell_type": "code",
      "source": [
        "df.head(5)"
      ],
      "metadata": {
        "id": "3FJr2M0emc9g",
        "colab": {
          "base_uri": "https://localhost:8080/",
          "height": 206
        },
        "outputId": "5e31131c-485f-4600-aeda-147b79a3f37f"
      },
      "execution_count": null,
      "outputs": [
        {
          "output_type": "execute_result",
          "data": {
            "text/html": [
              "\n",
              "  <div id=\"df-bddcafe6-004d-48d0-b110-13bde5f31f8b\">\n",
              "    <div class=\"colab-df-container\">\n",
              "      <div>\n",
              "<style scoped>\n",
              "    .dataframe tbody tr th:only-of-type {\n",
              "        vertical-align: middle;\n",
              "    }\n",
              "\n",
              "    .dataframe tbody tr th {\n",
              "        vertical-align: top;\n",
              "    }\n",
              "\n",
              "    .dataframe thead th {\n",
              "        text-align: right;\n",
              "    }\n",
              "</style>\n",
              "<table border=\"1\" class=\"dataframe\">\n",
              "  <thead>\n",
              "    <tr style=\"text-align: right;\">\n",
              "      <th></th>\n",
              "      <th>longitude</th>\n",
              "      <th>latitude</th>\n",
              "      <th>housing_median_age</th>\n",
              "      <th>total_rooms</th>\n",
              "      <th>total_bedrooms</th>\n",
              "      <th>population</th>\n",
              "      <th>households</th>\n",
              "      <th>median_income</th>\n",
              "      <th>median_house_value</th>\n",
              "    </tr>\n",
              "  </thead>\n",
              "  <tbody>\n",
              "    <tr>\n",
              "      <th>0</th>\n",
              "      <td>-122.05</td>\n",
              "      <td>37.37</td>\n",
              "      <td>27.0</td>\n",
              "      <td>3885.0</td>\n",
              "      <td>661.0</td>\n",
              "      <td>1537.0</td>\n",
              "      <td>606.0</td>\n",
              "      <td>6.6085</td>\n",
              "      <td>344700.0</td>\n",
              "    </tr>\n",
              "    <tr>\n",
              "      <th>1</th>\n",
              "      <td>-118.30</td>\n",
              "      <td>34.26</td>\n",
              "      <td>43.0</td>\n",
              "      <td>1510.0</td>\n",
              "      <td>310.0</td>\n",
              "      <td>809.0</td>\n",
              "      <td>277.0</td>\n",
              "      <td>3.5990</td>\n",
              "      <td>176500.0</td>\n",
              "    </tr>\n",
              "    <tr>\n",
              "      <th>2</th>\n",
              "      <td>-117.81</td>\n",
              "      <td>33.78</td>\n",
              "      <td>27.0</td>\n",
              "      <td>3589.0</td>\n",
              "      <td>507.0</td>\n",
              "      <td>1484.0</td>\n",
              "      <td>495.0</td>\n",
              "      <td>5.7934</td>\n",
              "      <td>270500.0</td>\n",
              "    </tr>\n",
              "    <tr>\n",
              "      <th>3</th>\n",
              "      <td>-118.36</td>\n",
              "      <td>33.82</td>\n",
              "      <td>28.0</td>\n",
              "      <td>67.0</td>\n",
              "      <td>15.0</td>\n",
              "      <td>49.0</td>\n",
              "      <td>11.0</td>\n",
              "      <td>6.1359</td>\n",
              "      <td>330000.0</td>\n",
              "    </tr>\n",
              "    <tr>\n",
              "      <th>4</th>\n",
              "      <td>-119.67</td>\n",
              "      <td>36.33</td>\n",
              "      <td>19.0</td>\n",
              "      <td>1241.0</td>\n",
              "      <td>244.0</td>\n",
              "      <td>850.0</td>\n",
              "      <td>237.0</td>\n",
              "      <td>2.9375</td>\n",
              "      <td>81700.0</td>\n",
              "    </tr>\n",
              "  </tbody>\n",
              "</table>\n",
              "</div>\n",
              "      <button class=\"colab-df-convert\" onclick=\"convertToInteractive('df-bddcafe6-004d-48d0-b110-13bde5f31f8b')\"\n",
              "              title=\"Convert this dataframe to an interactive table.\"\n",
              "              style=\"display:none;\">\n",
              "        \n",
              "  <svg xmlns=\"http://www.w3.org/2000/svg\" height=\"24px\"viewBox=\"0 0 24 24\"\n",
              "       width=\"24px\">\n",
              "    <path d=\"M0 0h24v24H0V0z\" fill=\"none\"/>\n",
              "    <path d=\"M18.56 5.44l.94 2.06.94-2.06 2.06-.94-2.06-.94-.94-2.06-.94 2.06-2.06.94zm-11 1L8.5 8.5l.94-2.06 2.06-.94-2.06-.94L8.5 2.5l-.94 2.06-2.06.94zm10 10l.94 2.06.94-2.06 2.06-.94-2.06-.94-.94-2.06-.94 2.06-2.06.94z\"/><path d=\"M17.41 7.96l-1.37-1.37c-.4-.4-.92-.59-1.43-.59-.52 0-1.04.2-1.43.59L10.3 9.45l-7.72 7.72c-.78.78-.78 2.05 0 2.83L4 21.41c.39.39.9.59 1.41.59.51 0 1.02-.2 1.41-.59l7.78-7.78 2.81-2.81c.8-.78.8-2.07 0-2.86zM5.41 20L4 18.59l7.72-7.72 1.47 1.35L5.41 20z\"/>\n",
              "  </svg>\n",
              "      </button>\n",
              "      \n",
              "  <style>\n",
              "    .colab-df-container {\n",
              "      display:flex;\n",
              "      flex-wrap:wrap;\n",
              "      gap: 12px;\n",
              "    }\n",
              "\n",
              "    .colab-df-convert {\n",
              "      background-color: #E8F0FE;\n",
              "      border: none;\n",
              "      border-radius: 50%;\n",
              "      cursor: pointer;\n",
              "      display: none;\n",
              "      fill: #1967D2;\n",
              "      height: 32px;\n",
              "      padding: 0 0 0 0;\n",
              "      width: 32px;\n",
              "    }\n",
              "\n",
              "    .colab-df-convert:hover {\n",
              "      background-color: #E2EBFA;\n",
              "      box-shadow: 0px 1px 2px rgba(60, 64, 67, 0.3), 0px 1px 3px 1px rgba(60, 64, 67, 0.15);\n",
              "      fill: #174EA6;\n",
              "    }\n",
              "\n",
              "    [theme=dark] .colab-df-convert {\n",
              "      background-color: #3B4455;\n",
              "      fill: #D2E3FC;\n",
              "    }\n",
              "\n",
              "    [theme=dark] .colab-df-convert:hover {\n",
              "      background-color: #434B5C;\n",
              "      box-shadow: 0px 1px 3px 1px rgba(0, 0, 0, 0.15);\n",
              "      filter: drop-shadow(0px 1px 2px rgba(0, 0, 0, 0.3));\n",
              "      fill: #FFFFFF;\n",
              "    }\n",
              "  </style>\n",
              "\n",
              "      <script>\n",
              "        const buttonEl =\n",
              "          document.querySelector('#df-bddcafe6-004d-48d0-b110-13bde5f31f8b button.colab-df-convert');\n",
              "        buttonEl.style.display =\n",
              "          google.colab.kernel.accessAllowed ? 'block' : 'none';\n",
              "\n",
              "        async function convertToInteractive(key) {\n",
              "          const element = document.querySelector('#df-bddcafe6-004d-48d0-b110-13bde5f31f8b');\n",
              "          const dataTable =\n",
              "            await google.colab.kernel.invokeFunction('convertToInteractive',\n",
              "                                                     [key], {});\n",
              "          if (!dataTable) return;\n",
              "\n",
              "          const docLinkHtml = 'Like what you see? Visit the ' +\n",
              "            '<a target=\"_blank\" href=https://colab.research.google.com/notebooks/data_table.ipynb>data table notebook</a>'\n",
              "            + ' to learn more about interactive tables.';\n",
              "          element.innerHTML = '';\n",
              "          dataTable['output_type'] = 'display_data';\n",
              "          await google.colab.output.renderOutput(dataTable, element);\n",
              "          const docLink = document.createElement('div');\n",
              "          docLink.innerHTML = docLinkHtml;\n",
              "          element.appendChild(docLink);\n",
              "        }\n",
              "      </script>\n",
              "    </div>\n",
              "  </div>\n",
              "  "
            ],
            "text/plain": [
              "   longitude  latitude  ...  median_income  median_house_value\n",
              "0    -122.05     37.37  ...         6.6085            344700.0\n",
              "1    -118.30     34.26  ...         3.5990            176500.0\n",
              "2    -117.81     33.78  ...         5.7934            270500.0\n",
              "3    -118.36     33.82  ...         6.1359            330000.0\n",
              "4    -119.67     36.33  ...         2.9375             81700.0\n",
              "\n",
              "[5 rows x 9 columns]"
            ]
          },
          "metadata": {},
          "execution_count": 24
        }
      ]
    },
    {
      "cell_type": "code",
      "source": [
        "df.shape"
      ],
      "metadata": {
        "colab": {
          "base_uri": "https://localhost:8080/"
        },
        "id": "Dw2949MafB4w",
        "outputId": "b946a4fe-6284-4fc8-8914-ffc2378ece1e"
      },
      "execution_count": null,
      "outputs": [
        {
          "output_type": "execute_result",
          "data": {
            "text/plain": [
              "(3000, 9)"
            ]
          },
          "metadata": {},
          "execution_count": 14
        }
      ]
    },
    {
      "cell_type": "code",
      "source": [
        "df.axes"
      ],
      "metadata": {
        "colab": {
          "base_uri": "https://localhost:8080/"
        },
        "id": "6brDaezPiqek",
        "outputId": "9cae5080-bbe8-43b5-ba1b-7de399874e47"
      },
      "execution_count": null,
      "outputs": [
        {
          "output_type": "execute_result",
          "data": {
            "text/plain": [
              "[RangeIndex(start=0, stop=3000, step=1),\n",
              " Index(['longitude', 'latitude', 'housing_median_age', 'total_rooms',\n",
              "        'total_bedrooms', 'population', 'households', 'median_income',\n",
              "        'median_house_value'],\n",
              "       dtype='object')]"
            ]
          },
          "metadata": {},
          "execution_count": 15
        }
      ]
    },
    {
      "cell_type": "code",
      "source": [
        "df.dtypes"
      ],
      "metadata": {
        "colab": {
          "base_uri": "https://localhost:8080/"
        },
        "id": "yNKwcfcjjC47",
        "outputId": "ad5234bb-b03d-47ea-bd12-1de08159924b"
      },
      "execution_count": null,
      "outputs": [
        {
          "output_type": "execute_result",
          "data": {
            "text/plain": [
              "longitude             float64\n",
              "latitude              float64\n",
              "housing_median_age    float64\n",
              "total_rooms           float64\n",
              "total_bedrooms        float64\n",
              "population            float64\n",
              "households            float64\n",
              "median_income         float64\n",
              "median_house_value    float64\n",
              "dtype: object"
            ]
          },
          "metadata": {},
          "execution_count": 19
        }
      ]
    },
    {
      "cell_type": "code",
      "source": [
        "df.ndim #Number of dimentions"
      ],
      "metadata": {
        "colab": {
          "base_uri": "https://localhost:8080/"
        },
        "id": "k3MoF-35vuB9",
        "outputId": "d5ebe08e-7721-4029-d6f0-b9ee70fcbd3f"
      },
      "execution_count": null,
      "outputs": [
        {
          "output_type": "execute_result",
          "data": {
            "text/plain": [
              "2"
            ]
          },
          "metadata": {},
          "execution_count": 21
        }
      ]
    },
    {
      "cell_type": "code",
      "source": [
        "df.values #Values of all the database without headings"
      ],
      "metadata": {
        "id": "eOfCxP-vwOM-"
      },
      "execution_count": null,
      "outputs": []
    },
    {
      "cell_type": "code",
      "source": [
        "df.size #numberof rows & column values"
      ],
      "metadata": {
        "colab": {
          "base_uri": "https://localhost:8080/"
        },
        "id": "hOHDWRQux9hk",
        "outputId": "3496b3d3-0824-4f7e-cd92-61fffb24d384"
      },
      "execution_count": null,
      "outputs": [
        {
          "output_type": "execute_result",
          "data": {
            "text/plain": [
              "27000"
            ]
          },
          "metadata": {},
          "execution_count": 39
        }
      ]
    },
    {
      "cell_type": "code",
      "source": [
        "df.tail(2)"
      ],
      "metadata": {
        "colab": {
          "base_uri": "https://localhost:8080/",
          "height": 112
        },
        "id": "s436IN9p2Qs4",
        "outputId": "24e97788-37d3-49cf-e60c-c286ef963243"
      },
      "execution_count": null,
      "outputs": [
        {
          "output_type": "execute_result",
          "data": {
            "text/html": [
              "<div>\n",
              "<style scoped>\n",
              "    .dataframe tbody tr th:only-of-type {\n",
              "        vertical-align: middle;\n",
              "    }\n",
              "\n",
              "    .dataframe tbody tr th {\n",
              "        vertical-align: top;\n",
              "    }\n",
              "\n",
              "    .dataframe thead th {\n",
              "        text-align: right;\n",
              "    }\n",
              "</style>\n",
              "<table border=\"1\" class=\"dataframe\">\n",
              "  <thead>\n",
              "    <tr style=\"text-align: right;\">\n",
              "      <th></th>\n",
              "      <th>longitude</th>\n",
              "      <th>latitude</th>\n",
              "      <th>housing_median_age</th>\n",
              "      <th>total_rooms</th>\n",
              "      <th>total_bedrooms</th>\n",
              "      <th>population</th>\n",
              "      <th>households</th>\n",
              "      <th>median_income</th>\n",
              "      <th>median_house_value</th>\n",
              "    </tr>\n",
              "  </thead>\n",
              "  <tbody>\n",
              "    <tr>\n",
              "      <th>2998</th>\n",
              "      <td>-117.12</td>\n",
              "      <td>34.10</td>\n",
              "      <td>40.0</td>\n",
              "      <td>96.0</td>\n",
              "      <td>14.0</td>\n",
              "      <td>46.0</td>\n",
              "      <td>14.0</td>\n",
              "      <td>3.2708</td>\n",
              "      <td>162500.0</td>\n",
              "    </tr>\n",
              "    <tr>\n",
              "      <th>2999</th>\n",
              "      <td>-119.63</td>\n",
              "      <td>34.42</td>\n",
              "      <td>42.0</td>\n",
              "      <td>1765.0</td>\n",
              "      <td>263.0</td>\n",
              "      <td>753.0</td>\n",
              "      <td>260.0</td>\n",
              "      <td>8.5608</td>\n",
              "      <td>500001.0</td>\n",
              "    </tr>\n",
              "  </tbody>\n",
              "</table>\n",
              "</div>"
            ],
            "text/plain": [
              "      longitude  latitude  ...  median_income  median_house_value\n",
              "2998    -117.12     34.10  ...         3.2708            162500.0\n",
              "2999    -119.63     34.42  ...         8.5608            500001.0\n",
              "\n",
              "[2 rows x 9 columns]"
            ]
          },
          "metadata": {},
          "execution_count": 30
        }
      ]
    },
    {
      "cell_type": "code",
      "source": [
        "dir(df)"
      ],
      "metadata": {
        "id": "swtjcOLX2cuy"
      },
      "execution_count": null,
      "outputs": []
    },
    {
      "cell_type": "code",
      "source": [
        "df.columns"
      ],
      "metadata": {
        "colab": {
          "base_uri": "https://localhost:8080/"
        },
        "id": "OP4cZ3uRDjBN",
        "outputId": "4bd671e9-029e-423a-e05e-4e1afb0afd96"
      },
      "execution_count": null,
      "outputs": [
        {
          "output_type": "execute_result",
          "data": {
            "text/plain": [
              "Index(['longitude', 'latitude', 'housing_median_age', 'total_rooms',\n",
              "       'total_bedrooms', 'population', 'households', 'median_income',\n",
              "       'median_house_value'],\n",
              "      dtype='object')"
            ]
          },
          "metadata": {},
          "execution_count": 18
        }
      ]
    },
    {
      "cell_type": "code",
      "source": [
        "len(df.columns)"
      ],
      "metadata": {
        "colab": {
          "base_uri": "https://localhost:8080/"
        },
        "id": "Xu7ts-fXHfy4",
        "outputId": "8ad1603c-c26d-4a0f-9810-7d1d3dbd9fe2"
      },
      "execution_count": null,
      "outputs": [
        {
          "output_type": "execute_result",
          "data": {
            "text/plain": [
              "9"
            ]
          },
          "metadata": {},
          "execution_count": 37
        }
      ]
    },
    {
      "cell_type": "code",
      "source": [
        "df.describe()"
      ],
      "metadata": {
        "colab": {
          "base_uri": "https://localhost:8080/",
          "height": 300
        },
        "id": "hbZkYkwlJt-1",
        "outputId": "57d999bf-8fac-4a00-e7a5-6a6630d66dfc"
      },
      "execution_count": null,
      "outputs": [
        {
          "output_type": "execute_result",
          "data": {
            "text/html": [
              "<div>\n",
              "<style scoped>\n",
              "    .dataframe tbody tr th:only-of-type {\n",
              "        vertical-align: middle;\n",
              "    }\n",
              "\n",
              "    .dataframe tbody tr th {\n",
              "        vertical-align: top;\n",
              "    }\n",
              "\n",
              "    .dataframe thead th {\n",
              "        text-align: right;\n",
              "    }\n",
              "</style>\n",
              "<table border=\"1\" class=\"dataframe\">\n",
              "  <thead>\n",
              "    <tr style=\"text-align: right;\">\n",
              "      <th></th>\n",
              "      <th>longitude</th>\n",
              "      <th>latitude</th>\n",
              "      <th>housing_median_age</th>\n",
              "      <th>total_rooms</th>\n",
              "      <th>total_bedrooms</th>\n",
              "      <th>population</th>\n",
              "      <th>households</th>\n",
              "      <th>median_income</th>\n",
              "      <th>median_house_value</th>\n",
              "    </tr>\n",
              "  </thead>\n",
              "  <tbody>\n",
              "    <tr>\n",
              "      <th>count</th>\n",
              "      <td>3000.000000</td>\n",
              "      <td>3000.00000</td>\n",
              "      <td>3000.000000</td>\n",
              "      <td>3000.000000</td>\n",
              "      <td>3000.000000</td>\n",
              "      <td>3000.000000</td>\n",
              "      <td>3000.00000</td>\n",
              "      <td>3000.000000</td>\n",
              "      <td>3000.00000</td>\n",
              "    </tr>\n",
              "    <tr>\n",
              "      <th>mean</th>\n",
              "      <td>-119.589200</td>\n",
              "      <td>35.63539</td>\n",
              "      <td>28.845333</td>\n",
              "      <td>2599.578667</td>\n",
              "      <td>529.950667</td>\n",
              "      <td>1402.798667</td>\n",
              "      <td>489.91200</td>\n",
              "      <td>3.807272</td>\n",
              "      <td>205846.27500</td>\n",
              "    </tr>\n",
              "    <tr>\n",
              "      <th>std</th>\n",
              "      <td>1.994936</td>\n",
              "      <td>2.12967</td>\n",
              "      <td>12.555396</td>\n",
              "      <td>2155.593332</td>\n",
              "      <td>415.654368</td>\n",
              "      <td>1030.543012</td>\n",
              "      <td>365.42271</td>\n",
              "      <td>1.854512</td>\n",
              "      <td>113119.68747</td>\n",
              "    </tr>\n",
              "    <tr>\n",
              "      <th>min</th>\n",
              "      <td>-124.180000</td>\n",
              "      <td>32.56000</td>\n",
              "      <td>1.000000</td>\n",
              "      <td>6.000000</td>\n",
              "      <td>2.000000</td>\n",
              "      <td>5.000000</td>\n",
              "      <td>2.00000</td>\n",
              "      <td>0.499900</td>\n",
              "      <td>22500.00000</td>\n",
              "    </tr>\n",
              "    <tr>\n",
              "      <th>25%</th>\n",
              "      <td>-121.810000</td>\n",
              "      <td>33.93000</td>\n",
              "      <td>18.000000</td>\n",
              "      <td>1401.000000</td>\n",
              "      <td>291.000000</td>\n",
              "      <td>780.000000</td>\n",
              "      <td>273.00000</td>\n",
              "      <td>2.544000</td>\n",
              "      <td>121200.00000</td>\n",
              "    </tr>\n",
              "    <tr>\n",
              "      <th>50%</th>\n",
              "      <td>-118.485000</td>\n",
              "      <td>34.27000</td>\n",
              "      <td>29.000000</td>\n",
              "      <td>2106.000000</td>\n",
              "      <td>437.000000</td>\n",
              "      <td>1155.000000</td>\n",
              "      <td>409.50000</td>\n",
              "      <td>3.487150</td>\n",
              "      <td>177650.00000</td>\n",
              "    </tr>\n",
              "    <tr>\n",
              "      <th>75%</th>\n",
              "      <td>-118.020000</td>\n",
              "      <td>37.69000</td>\n",
              "      <td>37.000000</td>\n",
              "      <td>3129.000000</td>\n",
              "      <td>636.000000</td>\n",
              "      <td>1742.750000</td>\n",
              "      <td>597.25000</td>\n",
              "      <td>4.656475</td>\n",
              "      <td>263975.00000</td>\n",
              "    </tr>\n",
              "    <tr>\n",
              "      <th>max</th>\n",
              "      <td>-114.490000</td>\n",
              "      <td>41.92000</td>\n",
              "      <td>52.000000</td>\n",
              "      <td>30450.000000</td>\n",
              "      <td>5419.000000</td>\n",
              "      <td>11935.000000</td>\n",
              "      <td>4930.00000</td>\n",
              "      <td>15.000100</td>\n",
              "      <td>500001.00000</td>\n",
              "    </tr>\n",
              "  </tbody>\n",
              "</table>\n",
              "</div>"
            ],
            "text/plain": [
              "         longitude    latitude  ...  median_income  median_house_value\n",
              "count  3000.000000  3000.00000  ...    3000.000000          3000.00000\n",
              "mean   -119.589200    35.63539  ...       3.807272        205846.27500\n",
              "std       1.994936     2.12967  ...       1.854512        113119.68747\n",
              "min    -124.180000    32.56000  ...       0.499900         22500.00000\n",
              "25%    -121.810000    33.93000  ...       2.544000        121200.00000\n",
              "50%    -118.485000    34.27000  ...       3.487150        177650.00000\n",
              "75%    -118.020000    37.69000  ...       4.656475        263975.00000\n",
              "max    -114.490000    41.92000  ...      15.000100        500001.00000\n",
              "\n",
              "[8 rows x 9 columns]"
            ]
          },
          "metadata": {},
          "execution_count": 40
        }
      ]
    },
    {
      "cell_type": "code",
      "source": [
        "df.max()"
      ],
      "metadata": {
        "id": "rSjiuh0zKBRr"
      },
      "execution_count": null,
      "outputs": []
    },
    {
      "cell_type": "code",
      "source": [
        "df.min()"
      ],
      "metadata": {
        "id": "KmwswrBK-xqJ"
      },
      "execution_count": null,
      "outputs": []
    },
    {
      "cell_type": "code",
      "source": [
        "df.mean()"
      ],
      "metadata": {
        "id": "yPwZL3X4_MbA"
      },
      "execution_count": null,
      "outputs": []
    },
    {
      "cell_type": "code",
      "source": [
        "df.longitude.value_counts()"
      ],
      "metadata": {
        "id": "dbGFGM3p_f8Z"
      },
      "execution_count": null,
      "outputs": []
    },
    {
      "cell_type": "code",
      "source": [
        "df.dropna"
      ],
      "metadata": {
        "id": "umrHbWocJ4sA"
      },
      "execution_count": null,
      "outputs": []
    },
    {
      "cell_type": "code",
      "source": [
        "df.std()"
      ],
      "metadata": {
        "id": "ecnXKYChLJqo"
      },
      "execution_count": null,
      "outputs": []
    },
    {
      "cell_type": "code",
      "source": [
        "df_10 = df.head(50) #this saves the new dataset(df_10) for head 50 values then run mean command for the df_50"
      ],
      "metadata": {
        "id": "5zj-lf2-MEMA"
      },
      "execution_count": null,
      "outputs": []
    },
    {
      "cell_type": "code",
      "source": [
        "df_10.mean()"
      ],
      "metadata": {
        "id": "5em9G4LUPYB-"
      },
      "execution_count": null,
      "outputs": []
    },
    {
      "cell_type": "code",
      "source": [
        "df.mean()"
      ],
      "metadata": {
        "id": "uvpINftVPnLx"
      },
      "execution_count": null,
      "outputs": []
    },
    {
      "cell_type": "code",
      "source": [
        "df.head(50).mean()"
      ],
      "metadata": {
        "id": "fOiqceIXQQix"
      },
      "execution_count": null,
      "outputs": []
    },
    {
      "cell_type": "code",
      "source": [
        "df.longitude  #selecting column in dataset (only single column)"
      ],
      "metadata": {
        "id": "59-EzzudQs6P"
      },
      "execution_count": null,
      "outputs": []
    },
    {
      "cell_type": "code",
      "source": [
        "df['longitude']"
      ],
      "metadata": {
        "id": "ArtvcxBWQ_sG"
      },
      "execution_count": null,
      "outputs": []
    },
    {
      "cell_type": "code",
      "source": [
        "df[['longitude']]  #this will return column name and o/p numbers"
      ],
      "metadata": {
        "id": "eOI_keQYRRZ2"
      },
      "execution_count": null,
      "outputs": []
    },
    {
      "cell_type": "code",
      "source": [
        "df.longitude.describe() #calculates the basis stats for paticulat column"
      ],
      "metadata": {
        "id": "rveMAuMRR4wP"
      },
      "execution_count": null,
      "outputs": []
    },
    {
      "cell_type": "code",
      "source": [
        "df.households.count() #finds how many values in column househodls"
      ],
      "metadata": {
        "colab": {
          "base_uri": "https://localhost:8080/"
        },
        "id": "C786VzBwVRQP",
        "outputId": "5fe3b74c-59c8-4144-91e5-588a85acd5a5"
      },
      "execution_count": null,
      "outputs": [
        {
          "output_type": "execute_result",
          "data": {
            "text/plain": [
              "3000"
            ]
          },
          "metadata": {},
          "execution_count": 58
        }
      ]
    },
    {
      "cell_type": "markdown",
      "source": [
        ""
      ],
      "metadata": {
        "id": "lmyvTzPAolfK"
      }
    },
    {
      "cell_type": "code",
      "source": [
        "df.households.mean()"
      ],
      "metadata": {
        "colab": {
          "base_uri": "https://localhost:8080/"
        },
        "id": "5L_Qg0LTVfev",
        "outputId": "5e4f17bf-529a-4c98-df6a-0a66a1f9fcc2"
      },
      "execution_count": null,
      "outputs": [
        {
          "output_type": "execute_result",
          "data": {
            "text/plain": [
              "489.912"
            ]
          },
          "metadata": {},
          "execution_count": 53
        }
      ]
    },
    {
      "cell_type": "markdown",
      "source": [
        "df.groupby('housing_median_age').mean() > this will provide the values with respect to housing_median_age. If I add in double sqr bracket , it will give value of first mentioned col'n wrt other mentioned (Sqr bracket will provide you the headings of columns mentioned in command"
      ],
      "metadata": {
        "id": "Gq2L1UyAobri"
      }
    },
    {
      "cell_type": "code",
      "source": [
        "df.groupby('housing_median_age')[['households']].mean()"
      ],
      "metadata": {
        "id": "7fyi7y8MHQ-L"
      },
      "execution_count": null,
      "outputs": []
    },
    {
      "cell_type": "code",
      "source": [
        "pd.DataFrame({'QTY': [22, 24 ], 'Sr No': [1,2]})    #you can expect only numeric values"
      ],
      "metadata": {
        "colab": {
          "base_uri": "https://localhost:8080/",
          "height": 112
        },
        "id": "8P_i-HoRoo1H",
        "outputId": "3e27bd6e-65de-4e22-8646-d05dcea9e8fa"
      },
      "execution_count": null,
      "outputs": [
        {
          "output_type": "execute_result",
          "data": {
            "text/html": [
              "\n",
              "  <div id=\"df-ed8c710f-0fa3-44fd-81cf-fbeadfe2342d\">\n",
              "    <div class=\"colab-df-container\">\n",
              "      <div>\n",
              "<style scoped>\n",
              "    .dataframe tbody tr th:only-of-type {\n",
              "        vertical-align: middle;\n",
              "    }\n",
              "\n",
              "    .dataframe tbody tr th {\n",
              "        vertical-align: top;\n",
              "    }\n",
              "\n",
              "    .dataframe thead th {\n",
              "        text-align: right;\n",
              "    }\n",
              "</style>\n",
              "<table border=\"1\" class=\"dataframe\">\n",
              "  <thead>\n",
              "    <tr style=\"text-align: right;\">\n",
              "      <th></th>\n",
              "      <th>QTY</th>\n",
              "      <th>Sr No</th>\n",
              "    </tr>\n",
              "  </thead>\n",
              "  <tbody>\n",
              "    <tr>\n",
              "      <th>0</th>\n",
              "      <td>22</td>\n",
              "      <td>1</td>\n",
              "    </tr>\n",
              "    <tr>\n",
              "      <th>1</th>\n",
              "      <td>24</td>\n",
              "      <td>2</td>\n",
              "    </tr>\n",
              "  </tbody>\n",
              "</table>\n",
              "</div>\n",
              "      <button class=\"colab-df-convert\" onclick=\"convertToInteractive('df-ed8c710f-0fa3-44fd-81cf-fbeadfe2342d')\"\n",
              "              title=\"Convert this dataframe to an interactive table.\"\n",
              "              style=\"display:none;\">\n",
              "        \n",
              "  <svg xmlns=\"http://www.w3.org/2000/svg\" height=\"24px\"viewBox=\"0 0 24 24\"\n",
              "       width=\"24px\">\n",
              "    <path d=\"M0 0h24v24H0V0z\" fill=\"none\"/>\n",
              "    <path d=\"M18.56 5.44l.94 2.06.94-2.06 2.06-.94-2.06-.94-.94-2.06-.94 2.06-2.06.94zm-11 1L8.5 8.5l.94-2.06 2.06-.94-2.06-.94L8.5 2.5l-.94 2.06-2.06.94zm10 10l.94 2.06.94-2.06 2.06-.94-2.06-.94-.94-2.06-.94 2.06-2.06.94z\"/><path d=\"M17.41 7.96l-1.37-1.37c-.4-.4-.92-.59-1.43-.59-.52 0-1.04.2-1.43.59L10.3 9.45l-7.72 7.72c-.78.78-.78 2.05 0 2.83L4 21.41c.39.39.9.59 1.41.59.51 0 1.02-.2 1.41-.59l7.78-7.78 2.81-2.81c.8-.78.8-2.07 0-2.86zM5.41 20L4 18.59l7.72-7.72 1.47 1.35L5.41 20z\"/>\n",
              "  </svg>\n",
              "      </button>\n",
              "      \n",
              "  <style>\n",
              "    .colab-df-container {\n",
              "      display:flex;\n",
              "      flex-wrap:wrap;\n",
              "      gap: 12px;\n",
              "    }\n",
              "\n",
              "    .colab-df-convert {\n",
              "      background-color: #E8F0FE;\n",
              "      border: none;\n",
              "      border-radius: 50%;\n",
              "      cursor: pointer;\n",
              "      display: none;\n",
              "      fill: #1967D2;\n",
              "      height: 32px;\n",
              "      padding: 0 0 0 0;\n",
              "      width: 32px;\n",
              "    }\n",
              "\n",
              "    .colab-df-convert:hover {\n",
              "      background-color: #E2EBFA;\n",
              "      box-shadow: 0px 1px 2px rgba(60, 64, 67, 0.3), 0px 1px 3px 1px rgba(60, 64, 67, 0.15);\n",
              "      fill: #174EA6;\n",
              "    }\n",
              "\n",
              "    [theme=dark] .colab-df-convert {\n",
              "      background-color: #3B4455;\n",
              "      fill: #D2E3FC;\n",
              "    }\n",
              "\n",
              "    [theme=dark] .colab-df-convert:hover {\n",
              "      background-color: #434B5C;\n",
              "      box-shadow: 0px 1px 3px 1px rgba(0, 0, 0, 0.15);\n",
              "      filter: drop-shadow(0px 1px 2px rgba(0, 0, 0, 0.3));\n",
              "      fill: #FFFFFF;\n",
              "    }\n",
              "  </style>\n",
              "\n",
              "      <script>\n",
              "        const buttonEl =\n",
              "          document.querySelector('#df-ed8c710f-0fa3-44fd-81cf-fbeadfe2342d button.colab-df-convert');\n",
              "        buttonEl.style.display =\n",
              "          google.colab.kernel.accessAllowed ? 'block' : 'none';\n",
              "\n",
              "        async function convertToInteractive(key) {\n",
              "          const element = document.querySelector('#df-ed8c710f-0fa3-44fd-81cf-fbeadfe2342d');\n",
              "          const dataTable =\n",
              "            await google.colab.kernel.invokeFunction('convertToInteractive',\n",
              "                                                     [key], {});\n",
              "          if (!dataTable) return;\n",
              "\n",
              "          const docLinkHtml = 'Like what you see? Visit the ' +\n",
              "            '<a target=\"_blank\" href=https://colab.research.google.com/notebooks/data_table.ipynb>data table notebook</a>'\n",
              "            + ' to learn more about interactive tables.';\n",
              "          element.innerHTML = '';\n",
              "          dataTable['output_type'] = 'display_data';\n",
              "          await google.colab.output.renderOutput(dataTable, element);\n",
              "          const docLink = document.createElement('div');\n",
              "          docLink.innerHTML = docLinkHtml;\n",
              "          element.appendChild(docLink);\n",
              "        }\n",
              "      </script>\n",
              "    </div>\n",
              "  </div>\n",
              "  "
            ],
            "text/plain": [
              "   QTY  Sr No\n",
              "0   22      1\n",
              "1   24      2"
            ]
          },
          "metadata": {},
          "execution_count": 19
        }
      ]
    },
    {
      "cell_type": "code",
      "source": [
        "pd.DataFrame({'Yes': [50, 21], 'No': [131, 2]})"
      ],
      "metadata": {
        "colab": {
          "base_uri": "https://localhost:8080/",
          "height": 112
        },
        "id": "Vo_xgh8KwKfe",
        "outputId": "cfff22c8-656d-4637-9d9e-745092476969"
      },
      "execution_count": null,
      "outputs": [
        {
          "output_type": "execute_result",
          "data": {
            "text/html": [
              "\n",
              "  <div id=\"df-b40f9dec-9e66-4508-9850-8e5298ac229e\">\n",
              "    <div class=\"colab-df-container\">\n",
              "      <div>\n",
              "<style scoped>\n",
              "    .dataframe tbody tr th:only-of-type {\n",
              "        vertical-align: middle;\n",
              "    }\n",
              "\n",
              "    .dataframe tbody tr th {\n",
              "        vertical-align: top;\n",
              "    }\n",
              "\n",
              "    .dataframe thead th {\n",
              "        text-align: right;\n",
              "    }\n",
              "</style>\n",
              "<table border=\"1\" class=\"dataframe\">\n",
              "  <thead>\n",
              "    <tr style=\"text-align: right;\">\n",
              "      <th></th>\n",
              "      <th>Yes</th>\n",
              "      <th>No</th>\n",
              "    </tr>\n",
              "  </thead>\n",
              "  <tbody>\n",
              "    <tr>\n",
              "      <th>0</th>\n",
              "      <td>50</td>\n",
              "      <td>131</td>\n",
              "    </tr>\n",
              "    <tr>\n",
              "      <th>1</th>\n",
              "      <td>21</td>\n",
              "      <td>2</td>\n",
              "    </tr>\n",
              "  </tbody>\n",
              "</table>\n",
              "</div>\n",
              "      <button class=\"colab-df-convert\" onclick=\"convertToInteractive('df-b40f9dec-9e66-4508-9850-8e5298ac229e')\"\n",
              "              title=\"Convert this dataframe to an interactive table.\"\n",
              "              style=\"display:none;\">\n",
              "        \n",
              "  <svg xmlns=\"http://www.w3.org/2000/svg\" height=\"24px\"viewBox=\"0 0 24 24\"\n",
              "       width=\"24px\">\n",
              "    <path d=\"M0 0h24v24H0V0z\" fill=\"none\"/>\n",
              "    <path d=\"M18.56 5.44l.94 2.06.94-2.06 2.06-.94-2.06-.94-.94-2.06-.94 2.06-2.06.94zm-11 1L8.5 8.5l.94-2.06 2.06-.94-2.06-.94L8.5 2.5l-.94 2.06-2.06.94zm10 10l.94 2.06.94-2.06 2.06-.94-2.06-.94-.94-2.06-.94 2.06-2.06.94z\"/><path d=\"M17.41 7.96l-1.37-1.37c-.4-.4-.92-.59-1.43-.59-.52 0-1.04.2-1.43.59L10.3 9.45l-7.72 7.72c-.78.78-.78 2.05 0 2.83L4 21.41c.39.39.9.59 1.41.59.51 0 1.02-.2 1.41-.59l7.78-7.78 2.81-2.81c.8-.78.8-2.07 0-2.86zM5.41 20L4 18.59l7.72-7.72 1.47 1.35L5.41 20z\"/>\n",
              "  </svg>\n",
              "      </button>\n",
              "      \n",
              "  <style>\n",
              "    .colab-df-container {\n",
              "      display:flex;\n",
              "      flex-wrap:wrap;\n",
              "      gap: 12px;\n",
              "    }\n",
              "\n",
              "    .colab-df-convert {\n",
              "      background-color: #E8F0FE;\n",
              "      border: none;\n",
              "      border-radius: 50%;\n",
              "      cursor: pointer;\n",
              "      display: none;\n",
              "      fill: #1967D2;\n",
              "      height: 32px;\n",
              "      padding: 0 0 0 0;\n",
              "      width: 32px;\n",
              "    }\n",
              "\n",
              "    .colab-df-convert:hover {\n",
              "      background-color: #E2EBFA;\n",
              "      box-shadow: 0px 1px 2px rgba(60, 64, 67, 0.3), 0px 1px 3px 1px rgba(60, 64, 67, 0.15);\n",
              "      fill: #174EA6;\n",
              "    }\n",
              "\n",
              "    [theme=dark] .colab-df-convert {\n",
              "      background-color: #3B4455;\n",
              "      fill: #D2E3FC;\n",
              "    }\n",
              "\n",
              "    [theme=dark] .colab-df-convert:hover {\n",
              "      background-color: #434B5C;\n",
              "      box-shadow: 0px 1px 3px 1px rgba(0, 0, 0, 0.15);\n",
              "      filter: drop-shadow(0px 1px 2px rgba(0, 0, 0, 0.3));\n",
              "      fill: #FFFFFF;\n",
              "    }\n",
              "  </style>\n",
              "\n",
              "      <script>\n",
              "        const buttonEl =\n",
              "          document.querySelector('#df-b40f9dec-9e66-4508-9850-8e5298ac229e button.colab-df-convert');\n",
              "        buttonEl.style.display =\n",
              "          google.colab.kernel.accessAllowed ? 'block' : 'none';\n",
              "\n",
              "        async function convertToInteractive(key) {\n",
              "          const element = document.querySelector('#df-b40f9dec-9e66-4508-9850-8e5298ac229e');\n",
              "          const dataTable =\n",
              "            await google.colab.kernel.invokeFunction('convertToInteractive',\n",
              "                                                     [key], {});\n",
              "          if (!dataTable) return;\n",
              "\n",
              "          const docLinkHtml = 'Like what you see? Visit the ' +\n",
              "            '<a target=\"_blank\" href=https://colab.research.google.com/notebooks/data_table.ipynb>data table notebook</a>'\n",
              "            + ' to learn more about interactive tables.';\n",
              "          element.innerHTML = '';\n",
              "          dataTable['output_type'] = 'display_data';\n",
              "          await google.colab.output.renderOutput(dataTable, element);\n",
              "          const docLink = document.createElement('div');\n",
              "          docLink.innerHTML = docLinkHtml;\n",
              "          element.appendChild(docLink);\n",
              "        }\n",
              "      </script>\n",
              "    </div>\n",
              "  </div>\n",
              "  "
            ],
            "text/plain": [
              "   Yes   No\n",
              "0   50  131\n",
              "1   21    2"
            ]
          },
          "metadata": {},
          "execution_count": 16
        }
      ]
    },
    {
      "cell_type": "code",
      "source": [
        "grouped=df.groupby('housing_median_age') ##This will generate aother datafolder according to mentioned column\n"
      ],
      "metadata": {
        "id": "OH3eP_5h97uE"
      },
      "execution_count": null,
      "outputs": []
    },
    {
      "cell_type": "markdown",
      "source": [
        "Python object will be created"
      ],
      "metadata": {
        "id": "TqDnwwuRA9hq"
      }
    },
    {
      "cell_type": "code",
      "source": [
        "grouped.ngroups #Some objects will not run dues to error or long data"
      ],
      "metadata": {
        "colab": {
          "base_uri": "https://localhost:8080/"
        },
        "id": "bbdnOgxC_BKk",
        "outputId": "d5f64f1a-53bc-4d02-c8a1-b8b78eb01a3c"
      },
      "execution_count": null,
      "outputs": [
        {
          "output_type": "execute_result",
          "data": {
            "text/plain": [
              "52"
            ]
          },
          "metadata": {},
          "execution_count": 19
        }
      ]
    },
    {
      "cell_type": "code",
      "source": [
        "grouped.groups"
      ],
      "metadata": {
        "colab": {
          "base_uri": "https://localhost:8080/"
        },
        "id": "4NcPrcyJ_3bT",
        "outputId": "5a03b5e9-6805-41b1-8e67-e34a83baeacc"
      },
      "execution_count": null,
      "outputs": [
        {
          "output_type": "execute_result",
          "data": {
            "text/plain": [
              "{1.0: [842, 1115], 2.0: [495, 1050, 1271, 2117, 2429, 2452], 3.0: [182, 532, 625, 688, 1019, 1604, 1747, 1984, 2327, 2417, 2913, 2936], 4.0: [45, 93, 295, 418, 900, 1005, 1021, 1123, 1146, 1178, 1283, 1460, 1584, 1597, 1667, 1924, 1953, 2014, 2054, 2141, 2178, 2326, 2528, 2614, 2625, 2671, 2758, 2930], 5.0: [33, 190, 358, 388, 389, 403, 650, 679, 753, 825, 829, 978, 1087, 1180, 1269, 1281, 1328, 1560, 1572, 1577, 1609, 1638, 1707, 1779, 1795, 1813, 1880, 1995, 2013, 2044, 2167, 2209, 2244, 2388, 2591, 2622, 2641, 2731, 2753], 6.0: [48, 107, 249, 292, 405, 429, 430, 546, 859, 888, 1044, 1073, 1344, 1812, 1828, 1976, 2046, 2095, 2099, 2159, 2194, 2340, 2387, 2859, 2969], 7.0: [252, 530, 680, 732, 763, 774, 887, 944, 1074, 1138, 1153, 1680, 1847, 1978, 1998, 2200, 2421, 2484, 2527, 2650], 8.0: [153, 217, 496, 610, 863, 917, 927, 1208, 1221, 1222, 1320, 1386, 1417, 1435, 1944, 2069, 2274, 2420, 2482, 2613, 2669, 2677, 2728, 2869, 2899], 9.0: [269, 360, 362, 604, 793, 880, 947, 1002, 1182, 1250, 1299, 1447, 1539, 1549, 1624, 1765, 1917, 2157, 2278, 2368, 2374, 2381, 2458, 2798, 2801, 2802, 2828], 10.0: [56, 201, 247, 248, 328, 383, 423, 933, 1031, 1188, 1236, 1329, 1552, 1614, 1927, 1996, 2061, 2081, 2148, 2372, 2424, 2477, 2664, 2701, 2702, 2719, 2761, 2852, 2931, 2997], 11.0: [39, 195, 240, 303, 434, 487, 584, 607, 755, 768, 777, 782, 832, 984, 1079, 1143, 1205, 1243, 1279, 1295, 1388, 1626, 1634, 1683, 1776, 1791, 1920, 2036, 2169, 2176, 2206, 2360, 2423, 2670, 2688, 2713, 2779, 2793, 2842, 2971, 2977], 12.0: [67, 140, 165, 176, 228, 323, 468, 543, 585, 630, 769, 771, 866, 883, 1016, 1092, 1093, 1253, 1267, 1377, 1482, 1494, 1621, 1653, 1709, 1834, 1859, 2008, 2027, 2030, 2186, 2257, 2310, 2312, 2318, 2755, 2775, 2787, 2794, 2845, 2975], 13.0: [24, 161, 184, 246, 256, 339, 408, 459, 549, 638, 639, 691, 702, 925, 1035, 1338, 1413, 1553, 1570, 1588, 1593, 1695, 1724, 1750, 1807, 1983, 2065, 2175, 2264, 2308, 2396, 2448, 2449, 2533, 2607, 2708, 2763, 2871, 2894, 2984, 2991], 14.0: [30, 50, 126, 216, 307, 333, 413, 494, 499, 599, 659, 804, 885, 949, 954, 972, 976, 991, 994, 1001, 1130, 1152, 1181, 1252, 1313, 1319, 1686, 1699, 1730, 1770, 1787, 1829, 1833, 1839, 1905, 1940, 1960, 2032, 2213, 2228, 2300, 2385, 2406, 2412, 2416, 2463, 2487, 2500, 2509, 2552, 2580, 2594, 2814, 2822, 2889, 2914, 2973], 15.0: [8, 16, 40, 116, 118, 152, 159, 162, 164, 231, 242, 253, 276, 286, 386, 426, 433, 473, 474, 521, 657, 687, 694, 730, 792, 862, 995, 1133, 1135, 1165, 1167, 1169, 1185, 1193, 1216, 1290, 1326, 1364, 1365, 1441, 1537, 1607, 1636, 1649, 1682, 1748, 1838, 1841, 1868, 1885, 1964, 1972, 2072, 2120, 2153, 2261, 2334, 2348, 2399, 2408, 2459, 2483, 2490, 2506, 2534, 2575, 2579, 2587, 2627, 2635, 2659, 2717, 2782, 2784, 2805, 2816, 2833], 16.0: [13, 41, 59, 97, 136, 155, 230, 241, 298, 346, 352, 366, 394, 447, 529, 544, 582, 591, 641, 662, 672, 707, 711, 853, 871, 914, 926, 940, 960, 964, 983, 1049, 1061, 1094, 1103, 1145, 1179, 1200, 1233, 1273, 1293, 1298, 1303, 1400, 1422, 1436, 1445, 1451, 1462, 1491, 1496, 1513, 1547, 1561, 1585, 1615, 1662, 1691, 1693, 1713, 1726, 1736, 1759, 1768, 1769, 1782, 1965, 1988, 1992, 2021, 2047, 2062, 2073, 2083, 2093, 2114, 2144, 2172, 2173, 2174, 2196, 2294, 2298, 2315, 2405, 2407, 2414, 2443, 2469, 2472, 2473, 2514, 2567, 2573, 2699, 2712, 2722, 2749, 2766, 2771, ...], 17.0: [32, 88, 124, 144, 168, 211, 215, 312, 316, 321, 322, 375, 395, 502, 560, 597, 620, 622, 628, 721, 751, 775, 858, 892, 903, 922, 923, 924, 1062, 1081, 1116, 1194, 1197, 1211, 1229, 1231, 1234, 1294, 1342, 1349, 1402, 1411, 1421, 1511, 1526, 1531, 1535, 1548, 1554, 1594, 1639, 1640, 1678, 1679, 1684, 1722, 1731, 1735, 1792, 1820, 1850, 2002, 2017, 2028, 2055, 2077, 2098, 2105, 2135, 2165, 2225, 2241, 2293, 2314, 2394, 2489, 2508, 2510, 2512, 2592, 2598, 2610, 2616, 2633, 2643, 2656, 2663, 2675, 2676, 2714, 2759, 2847, 2854, 2902, 2925, 2933, 2961, 2978, 2981, 2985], 18.0: [61, 68, 78, 84, 187, 244, 254, 262, 264, 400, 461, 480, 483, 525, 572, 594, 645, 646, 686, 720, 770, 854, 938, 970, 977, 1018, 1067, 1088, 1101, 1175, 1190, 1204, 1227, 1230, 1247, 1248, 1324, 1335, 1471, 1540, 1546, 1586, 1729, 1732, 1784, 1877, 1878, 1900, 1903, 1919, 1966, 2128, 2163, 2164, 2170, 2222, 2229, 2277, 2347, 2371, 2386, 2400, 2402, 2430, 2434, 2435, 2475, 2501, 2547, 2558, 2709, 2740, 2790, 2924, 2928, 2968], 19.0: [4, 7, 28, 49, 66, 114, 131, 444, 462, 536, 537, 697, 705, 731, 765, 837, 847, 868, 898, 910, 946, 992, 1063, 1075, 1084, 1206, 1215, 1232, 1241, 1316, 1318, 1352, 1454, 1463, 1595, 1620, 1669, 1766, 1804, 1816, 1836, 1858, 1902, 1974, 2011, 2035, 2097, 2110, 2154, 2168, 2189, 2239, 2240, 2247, 2256, 2288, 2299, 2305, 2311, 2342, 2344, 2461, 2519, 2523, 2530, 2584, 2593, 2672, 2696, 2723, 2727, 2807, 2819, 2853, 2942, 2951], 20.0: [96, 98, 120, 178, 234, 285, 336, 364, 367, 446, 486, 514, 555, 586, 606, 616, 627, 742, 756, 826, 869, 899, 902, 1008, 1080, 1083, 1106, 1136, 1161, 1163, 1210, 1291, 1393, 1404, 1450, 1487, 1501, 1502, 1589, 1668, 1694, 1921, 1931, 2019, 2033, 2082, 2088, 2096, 2146, 2152, 2155, 2253, 2259, 2284, 2316, 2438, 2660, 2744, 2754, 2767, 2776, 2922, 2979], 21.0: [51, 83, 183, 202, 203, 235, 284, 348, 427, 443, 466, 471, 479, 517, 579, 644, 985, 988, 1054, 1112, 1150, 1166, 1207, 1306, 1357, 1374, 1395, 1459, 1469, 1477, 1483, 1563, 1612, 1619, 1690, 1739, 1789, 1909, 2060, 2063, 2084, 2106, 2204, 2219, 2242, 2248, 2280, 2445, 2479, 2502, 2513, 2557, 2639, 2673, 2729, 2733, 2743, 2821, 2834, 2848, 2896], 22.0: [72, 79, 142, 196, 250, 258, 290, 438, 504, 523, 531, 629, 706, 713, 723, 811, 857, 931, 963, 1043, 1046, 1078, 1113, 1171, 1214, 1251, 1287, 1519, 1522, 1602, 1616, 1645, 1741, 1755, 1861, 1862, 1886, 2026, 2090, 2107, 2162, 2191, 2255, 2285, 2317, 2432, 2465, 2550, 2553, 2555, 2560, 2601, 2692, 2693, 2736, 2778, 2873, 2912, 2919, 2926], 23.0: [146, 209, 212, 237, 274, 329, 378, 435, 526, 583, 590, 664, 696, 864, 913, 942, 953, 1154, 1176, 1212, 1246, 1254, 1312, 1408, 1476, 1520, 1545, 1556, 1596, 1627, 1632, 1657, 1674, 1718, 1837, 1854, 1939, 1967, 2109, 2276, 2320, 2351, 2358, 2453, 2525, 2535, 2632, 2689, 2864, 2905, 2920, 2954, 2995], 24.0: [46, 74, 90, 110, 143, 154, 169, 177, 277, 297, 357, 372, 503, 528, 545, 565, 618, 631, 669, 675, 700, 896, 911, 919, 989, 990, 1023, 1060, 1120, 1160, 1260, 1297, 1308, 1362, 1379, 1431, 1434, 1506, 1534, 1562, 1565, 1603, 1628, 1671, 1742, 1774, 1844, 1896, 1906, 1922, 1968, 2052, 2068, 2079, 2103, 2179, 2184, 2234, 2260, 2291, 2309, 2343, 2444, 2464, 2499, 2569, 2653, 2695, 2711, 2738, 2751, 2777, 2796, 2890, 2940], 25.0: [127, 129, 149, 199, 200, 214, 219, 257, 347, 477, 509, 522, 571, 709, 724, 780, 790, 801, 821, 824, 845, 865, 881, 908, 956, 967, 1009, 1033, 1052, 1102, 1108, 1111, 1132, 1158, 1172, 1174, 1177, 1187, 1224, 1289, 1341, 1343, 1396, 1418, 1425, 1448, 1515, 1566, 1574, 1631, 1703, 1708, 1754, 1773, 1875, 1893, 1913, 1934, 1943, 1955, 1991, 2064, 2134, 2142, 2235, 2243, 2279, 2370, 2398, 2415, 2439, 2515, 2540, 2562, 2574, 2589, 2629, 2691, 2741, 2762, 2823, 2837, 2887, 2895, 2917, 2987], 26.0: [17, 18, 53, 57, 64, 139, 293, 313, 335, 404, 431, 450, 464, 475, 493, 552, 554, 556, 666, 690, 712, 745, 748, 827, 876, 961, 980, 1022, 1024, 1162, 1199, 1217, 1244, 1266, 1284, 1286, 1340, 1375, 1419, 1428, 1465, 1473, 1474, 1505, 1567, 1576, 1601, 1675, 1677, 1727, 1796, 1797, 1802, 1814, 1863, 1866, 1898, 1908, 1929, 1949, 1957, 1961, 1975, 2115, 2130, 2132, 2136, 2182, 2195, 2198, 2230, 2262, 2270, 2301, 2304, 2350, 2404, 2410, 2526, 2554, 2586, 2615, 2640, 2768, 2789, 2827, 2966, 2967], 27.0: [0, 2, 14, 112, 255, 272, 282, 315, 445, 481, 715, 727, 760, 764, 776, 800, 875, 893, 921, 932, 934, 952, 987, 1026, 1047, 1147, 1225, 1307, 1311, 1359, 1382, 1387, 1449, 1464, 1479, 1524, 1581, 1590, 1642, 1651, 1658, 1659, 1701, 1702, 1706, 1710, 1717, 1725, 1805, 1823, 1928, 1981, 2045, 2057, 2100, 2112, 2185, 2187, 2325, 2355, 2462, 2522, 2529, 2532, 2542, 2649, 2697, 2703, 2705, 2855, 2881, 2909, 2957, 2996], 28.0: [3, 85, 87, 122, 130, 172, 173, 198, 239, 291, 304, 327, 392, 416, 417, 425, 465, 507, 609, 632, 642, 716, 762, 786, 789, 807, 897, 904, 1107, 1196, 1302, 1347, 1424, 1500, 1527, 1571, 1623, 1720, 1764, 1785, 1808, 1914, 2000, 2211, 2215, 2217, 2275, 2328, 2333, 2409, 2585, 2621, 2647, 2732, 2735, 2809, 2824, 2903], 29.0: [77, 123, 185, 194, 227, 318, 380, 396, 512, 513, 542, 578, 614, 637, 670, 681, 682, 689, 722, 757, 791, 822, 823, 831, 874, 930, 999, 1036, 1095, 1157, 1164, 1201, 1249, 1305, 1372, 1426, 1529, 1557, 1592, 1605, 1635, 1650, 1688, 1758, 1856, 1888, 1894, 1912, 1963, 1970, 1979, 2040, 2078, 2102, 2131, 2133, 2147, 2180, 2302, 2341, 2365, 2425, 2470, 2495, 2524, 2536, 2538, 2541, 2617, 2665, 2770, 2786, 2812, 2839, 2916], 30.0: [29, 95, 106, 108, 117, 170, 188, 191, 221, 279, 319, 344, 385, 440, 458, 506, 561, 562, 569, 581, 603, 621, 651, 678, 747, 773, 784, 846, 957, 981, 1006, 1028, 1057, 1066, 1082, 1122, 1124, 1131, 1237, 1256, 1348, 1401, 1406, 1456, 1493, 1498, 1504, 1558, 1564, 1643, 1687, 1723, 1734, 1756, 1762, 1798, 1951, 2074, 2201, 2223, 2226, 2263, 2339, 2352, 2397, 2440, 2545, 2561, 2581, 2715, 2724, 2785, 2797, 2820, 2836, 2880], 31.0: [9, 38, 63, 102, 137, 163, 186, 207, 213, 226, 283, 300, 359, 370, 376, 377, 441, 538, 575, 623, 673, 719, 798, 830, 867, 901, 968, 979, 1000, 1071, 1114, 1134, 1358, 1392, 1438, 1439, 1442, 1486, 1518, 1521, 1542, 1568, 1660, 1714, 1746, 1767, 2031, 2161, 2250, 2295, 2359, 2363, 2369, 2559, 2564, 2825, 2856], 32.0: [27, 91, 133, 233, 243, 287, 371, 412, 442, 470, 501, 520, 533, 550, 574, 601, 783, 802, 805, 809, 810, 812, 814, 841, 945, 1004, 1030, 1039, 1045, 1139, 1191, 1258, 1268, 1275, 1304, 1330, 1391, 1398, 1416, 1488, 1532, 1573, 1613, 1646, 1700, 1719, 1777, 1778, 1869, 1901, 1926, 1945, 1962, 1971, 2004, 2005, 2015, 2034, 2043, 2051, 2067, 2086, 2091, 2166, 2207, 2216, 2265, 2268, 2323, 2330, 2503, 2603, 2606, 2626, 2654, 2679, 2707, 2725, 2745, 2746, 2765, 2800, 2817, 2860, 2897, 2898, 2923, 2948, 2955, 2980, 2989], 33.0: [35, 180, 210, 220, 225, 270, 337, 355, 419, 460, 515, 534, 557, 576, 619, 624, 665, 699, 703, 817, 838, 937, 939, 951, 1027, 1059, 1119, 1140, 1149, 1278, 1309, 1314, 1315, 1323, 1350, 1353, 1360, 1363, 1370, 1484, 1541, 1555, 1608, 1633, 1654, 1689, 1760, 1761, 1781, 1809, 1849, 1870, 1873, 1883, 1915, 1956, 1959, 1994, 2048, 2075, 2076, 2123, 2126, 2193, 2245, 2303, 2306, 2307, 2322, 2391, 2450, 2543, 2570, 2582, 2608, 2685, 2730, 2747, 2783, 2799, 2835, 2851, 2872, 2885, 2935], 34.0: [31, 37, 73, 105, 121, 138, 174, 224, 275, 289, 294, 296, 299, 342, 390, 414, 489, 492, 510, 540, 547, 589, 613, 615, 617, 728, 743, 796, 799, 813, 815, 941, 973, 1017, 1090, 1183, 1186, 1262, 1280, 1288, 1337, 1371, 1394, 1397, 1403, 1412, 1490, 1512, 1536, 1716, 1771, 1799, 1803, 1806, 1851, 1947, 1948, 1969, 1973, 1993, 2009, 2042, 2053, 2056, 2071, 2087, 2111, 2138, 2139, 2143, 2210, 2237, 2251, 2292, 2332, 2335, 2337, 2354, 2377, 2411, 2437, 2468, 2486, 2531, 2549, 2572, 2655, 2661, 2674, 2687, 2694, 2748, 2832, 2866, 2883, 2886, 2906, 2934, 2952, 2956, ...], 35.0: [19, 62, 69, 82, 86, 103, 111, 145, 148, 205, 271, 305, 330, 353, 354, 379, 402, 421, 422, 436, 448, 467, 485, 548, 608, 626, 661, 671, 701, 766, 795, 820, 839, 843, 916, 959, 975, 996, 1041, 1053, 1085, 1086, 1100, 1110, 1127, 1141, 1159, 1168, 1209, 1220, 1240, 1255, 1259, 1317, 1331, 1384, 1389, 1415, 1470, 1472, 1481, 1550, 1583, 1617, 1663, 1664, 1666, 1676, 1704, 1721, 1745, 1794, 1817, 1818, 1840, 1872, 1899, 1910, 1925, 1936, 1942, 1987, 2006, 2012, 2024, 2029, 2038, 2092, 2094, 2113, 2236, 2246, 2266, 2271, 2297, 2338, 2361, 2392, 2447, 2485, ...], 36.0: [12, 21, 25, 43, 55, 60, 92, 104, 113, 141, 160, 166, 171, 204, 245, 251, 261, 263, 266, 309, 393, 399, 406, 409, 432, 452, 463, 472, 500, 527, 598, 600, 635, 643, 660, 726, 734, 737, 744, 750, 848, 856, 861, 878, 882, 915, 928, 943, 958, 1048, 1064, 1098, 1242, 1261, 1334, 1345, 1351, 1368, 1380, 1399, 1429, 1430, 1437, 1440, 1458, 1508, 1538, 1551, 1559, 1575, 1625, 1641, 1644, 1648, 1715, 1744, 1751, 1811, 1815, 1832, 1871, 1892, 1935, 1954, 1997, 2070, 2124, 2151, 2202, 2205, 2208, 2254, 2283, 2357, 2380, 2418, 2419, 2422, 2431, 2565, ...], 37.0: [5, 11, 42, 189, 206, 325, 350, 456, 476, 564, 580, 648, 654, 655, 668, 710, 785, 787, 849, 855, 891, 929, 955, 966, 969, 982, 1025, 1144, 1195, 1228, 1245, 1301, 1310, 1339, 1366, 1383, 1390, 1427, 1433, 1480, 1485, 1489, 1514, 1525, 1569, 1629, 1637, 1647, 1692, 1705, 1743, 1757, 1793, 1853, 1874, 1907, 1918, 1941, 1952, 1977, 1982, 2003, 2010, 2022, 2037, 2346, 2389, 2441, 2491, 2546, 2578, 2583, 2590, 2600, 2605, 2611, 2657, 2718, 2826, 2829, 2844, 2858, 2884, 2943, 2949, 2958, 2974, 2993], 38.0: [34, 65, 119, 158, 179, 197, 310, 338, 351, 365, 381, 382, 387, 398, 411, 454, 490, 587, 816, 851, 950, 965, 1011, 1037, 1040, 1070, 1091, 1117, 1223, 1238, 1270, 1381, 1405, 1407, 1444, 1543, 1611, 1655, 1661, 1697, 1846, 1879, 1989, 2007, 2188, 2199, 2203, 2269, 2272, 2373, 2401, 2492, 2563, 2646, 2681, 2686, 2721, 2742, 2831, 2841, 2843, 2877, 2932, 2939], 39.0: [52, 54, 134, 135, 147, 193, 238, 302, 324, 401, 469, 566, 649, 729, 741, 828, 890, 920, 962, 986, 997, 1029, 1042, 1219, 1264, 1336, 1376, 1409, 1452, 1533, 1578, 1598, 1673, 1733, 1822, 1835, 1864, 1867, 1890, 1986, 2025, 2101, 2119, 2149, 2160, 2282, 2427, 2428, 2504, 2505, 2636, 2683, 2781, 2893, 2945], 40.0: [20, 280, 363, 397, 449, 488, 595, 611, 685, 788, 836, 909, 1012, 1058, 1089, 1276, 1446, 1461, 1475, 1492, 1495, 1670, 1696, 1740, 1753, 1775, 1876, 1980, 1990, 2118, 2140, 2156, 2171, 2177, 2249, 2336, 2366, 2378, 2403, 2551, 2599, 2878, 2998], 41.0: [151, 301, 311, 320, 326, 341, 356, 407, 505, 558, 567, 570, 593, 718, 746, 781, 835, 886, 912, 948, 1013, 1038, 1056, 1105, 1137, 1282, 1292, 1517, 1591, 1622, 1665, 1738, 1752, 1825, 1848, 1881, 1930, 1933, 2016, 2085, 2121, 2227, 2238, 2353, 2383, 2451, 2456, 2511, 2517, 2602, 2612, 2620, 2630, 2756, 2764, 2941], 42.0: [15, 115, 125, 156, 175, 181, 192, 265, 349, 373, 437, 451, 455, 508, 559, 596, 658, 674, 749, 752, 1020, 1125, 1203, 1356, 1414, 1420, 1443, 1587, 1606, 1737, 1821, 1950, 2116, 2122, 2127, 2137, 2218, 2232, 2281, 2296, 2331, 2393, 2588, 2619, 2634, 2644, 2706, 2803, 2982, 2986, 2999], 43.0: [1, 6, 101, 167, 222, 268, 308, 497, 573, 588, 634, 636, 652, 692, 698, 735, 772, 834, 840, 844, 860, 918, 974, 1015, 1065, 1148, 1184, 1218, 1226, 1277, 1410, 1530, 1599, 1652, 1672, 1681, 1819, 1884, 2059, 2212, 2413, 2426, 2442, 2467, 2476, 2498, 2566, 2571, 2576, 2700, 2720, 2757, 2780, 2804, 2964, 2988], 44.0: [58, 71, 75, 81, 89, 218, 273, 345, 374, 453, 457, 478, 518, 592, 704, 725, 778, 803, 806, 808, 877, 1072, 1097, 1126, 1198, 1373, 1385, 1497, 1656, 1728, 1801, 1830, 1842, 1845, 1889, 1999, 2049, 2050, 2192, 2220, 2286, 2290, 2319, 2362, 2375, 2390, 2481, 2651, 2846, 2910, 2911], 45.0: [10, 23, 150, 259, 278, 281, 317, 334, 361, 491, 577, 738, 739, 873, 905, 936, 971, 1003, 1121, 1151, 1155, 1272, 1274, 1467, 1523, 1528, 1772, 2018, 2020, 2058, 2066, 2104, 2129, 2145, 2231, 2356, 2367, 2395, 2455, 2457, 2460, 2478, 2520, 2597, 2609, 2726, 2752, 2769, 2875, 2888, 2962], 46.0: [80, 288, 331, 343, 391, 439, 484, 511, 539, 568, 605, 612, 684, 733, 794, 1010, 1332, 1378, 1468, 1516, 1810, 1882, 1895, 1937, 1958, 2181, 2197, 2287, 2289, 2345, 2349, 2433, 2466, 2480, 2577, 2595, 2652, 2815, 2861, 2879, 2918], 47.0: [22, 47, 76, 368, 428, 818, 852, 884, 1068, 1170, 1503, 1600, 1749, 1911, 1985, 2214, 2233, 2716, 2791, 2857, 2868, 2921], 48.0: [44, 420, 424, 647, 714, 758, 761, 779, 833, 850, 870, 935, 998, 1235, 1265, 1455, 1466, 1580, 1582, 1685, 1763, 1932, 2150, 2516, 2518, 2537, 2568, 2642, 2645, 2658, 2662, 2904, 2953, 2983], 49.0: [100, 208, 340, 663, 879, 1076, 1156, 1173, 1202, 1783, 1891, 1923, 2039, 2108, 2221, 2273, 2494, 2497, 2556, 2710, 2990], 50.0: [94, 132, 223, 563, 653, 693, 1007, 1069, 1263, 1610, 1827, 2089, 2382, 2446, 2680, 2862], 51.0: [524, 1051, 1099, 1800, 1843, 1916, 2023, 2454, 2638, 2849, 2900], 52.0: [26, 36, 70, 99, 109, 128, 157, 229, 232, 236, 260, 267, 306, 314, 332, 369, 384, 410, 415, 482, 498, 516, 519, 535, 541, 551, 553, 602, 633, 640, 656, 667, 676, 677, 683, 695, 708, 717, 736, 740, 754, 759, 767, 797, 819, 872, 889, 894, 895, 906, 907, 993, 1014, 1032, 1034, 1055, 1077, 1096, 1104, 1109, 1118, 1128, 1129, 1142, 1189, 1192, 1213, 1239, 1257, 1285, 1296, 1300, 1321, 1322, 1325, 1327, 1333, 1346, 1354, 1355, 1361, 1367, 1369, 1423, 1432, 1453, 1457, 1478, 1499, 1507, 1509, 1510, 1544, 1579, 1618, 1630, 1698, 1711, 1712, 1780, ...]}"
            ]
          },
          "metadata": {},
          "execution_count": 20
        }
      ]
    },
    {
      "cell_type": "code",
      "source": [
        "df[df.population>5000]   #First df will give you True or false and another df will print values."
      ],
      "metadata": {
        "colab": {
          "base_uri": "https://localhost:8080/",
          "height": 1000
        },
        "id": "3KNshwEjwHKk",
        "outputId": "9371e71b-4b31-427b-e94b-4873af06fd57"
      },
      "execution_count": 10,
      "outputs": [
        {
          "output_type": "execute_result",
          "data": {
            "text/html": [
              "\n",
              "  <div id=\"df-1abddd96-6acd-4175-8f9a-011a863e6e8d\">\n",
              "    <div class=\"colab-df-container\">\n",
              "      <div>\n",
              "<style scoped>\n",
              "    .dataframe tbody tr th:only-of-type {\n",
              "        vertical-align: middle;\n",
              "    }\n",
              "\n",
              "    .dataframe tbody tr th {\n",
              "        vertical-align: top;\n",
              "    }\n",
              "\n",
              "    .dataframe thead th {\n",
              "        text-align: right;\n",
              "    }\n",
              "</style>\n",
              "<table border=\"1\" class=\"dataframe\">\n",
              "  <thead>\n",
              "    <tr style=\"text-align: right;\">\n",
              "      <th></th>\n",
              "      <th>longitude</th>\n",
              "      <th>latitude</th>\n",
              "      <th>housing_median_age</th>\n",
              "      <th>total_rooms</th>\n",
              "      <th>total_bedrooms</th>\n",
              "      <th>population</th>\n",
              "      <th>households</th>\n",
              "      <th>median_income</th>\n",
              "      <th>median_house_value</th>\n",
              "    </tr>\n",
              "  </thead>\n",
              "  <tbody>\n",
              "    <tr>\n",
              "      <th>33</th>\n",
              "      <td>-118.08</td>\n",
              "      <td>34.55</td>\n",
              "      <td>5.0</td>\n",
              "      <td>16181.0</td>\n",
              "      <td>2971.0</td>\n",
              "      <td>8152.0</td>\n",
              "      <td>2651.0</td>\n",
              "      <td>4.5237</td>\n",
              "      <td>141800.0</td>\n",
              "    </tr>\n",
              "    <tr>\n",
              "      <th>142</th>\n",
              "      <td>-117.98</td>\n",
              "      <td>34.10</td>\n",
              "      <td>22.0</td>\n",
              "      <td>5661.0</td>\n",
              "      <td>1209.0</td>\n",
              "      <td>5389.0</td>\n",
              "      <td>1178.0</td>\n",
              "      <td>3.7727</td>\n",
              "      <td>159700.0</td>\n",
              "    </tr>\n",
              "    <tr>\n",
              "      <th>321</th>\n",
              "      <td>-121.73</td>\n",
              "      <td>37.68</td>\n",
              "      <td>17.0</td>\n",
              "      <td>20354.0</td>\n",
              "      <td>3493.0</td>\n",
              "      <td>8768.0</td>\n",
              "      <td>3293.0</td>\n",
              "      <td>5.4496</td>\n",
              "      <td>238900.0</td>\n",
              "    </tr>\n",
              "    <tr>\n",
              "      <th>405</th>\n",
              "      <td>-120.67</td>\n",
              "      <td>35.62</td>\n",
              "      <td>6.0</td>\n",
              "      <td>12779.0</td>\n",
              "      <td>2441.0</td>\n",
              "      <td>6085.0</td>\n",
              "      <td>2157.0</td>\n",
              "      <td>3.8661</td>\n",
              "      <td>168100.0</td>\n",
              "    </tr>\n",
              "    <tr>\n",
              "      <th>607</th>\n",
              "      <td>-116.19</td>\n",
              "      <td>33.69</td>\n",
              "      <td>11.0</td>\n",
              "      <td>5692.0</td>\n",
              "      <td>1346.0</td>\n",
              "      <td>5682.0</td>\n",
              "      <td>1273.0</td>\n",
              "      <td>2.5383</td>\n",
              "      <td>74000.0</td>\n",
              "    </tr>\n",
              "    <tr>\n",
              "      <th>887</th>\n",
              "      <td>-117.04</td>\n",
              "      <td>32.70</td>\n",
              "      <td>7.0</td>\n",
              "      <td>9311.0</td>\n",
              "      <td>1703.0</td>\n",
              "      <td>7302.0</td>\n",
              "      <td>1694.0</td>\n",
              "      <td>4.4190</td>\n",
              "      <td>156900.0</td>\n",
              "    </tr>\n",
              "    <tr>\n",
              "      <th>900</th>\n",
              "      <td>-117.22</td>\n",
              "      <td>32.95</td>\n",
              "      <td>4.0</td>\n",
              "      <td>18123.0</td>\n",
              "      <td>3173.0</td>\n",
              "      <td>7301.0</td>\n",
              "      <td>2964.0</td>\n",
              "      <td>6.3570</td>\n",
              "      <td>322500.0</td>\n",
              "    </tr>\n",
              "    <tr>\n",
              "      <th>947</th>\n",
              "      <td>-117.23</td>\n",
              "      <td>33.91</td>\n",
              "      <td>9.0</td>\n",
              "      <td>11654.0</td>\n",
              "      <td>2100.0</td>\n",
              "      <td>7596.0</td>\n",
              "      <td>2127.0</td>\n",
              "      <td>4.0473</td>\n",
              "      <td>127200.0</td>\n",
              "    </tr>\n",
              "    <tr>\n",
              "      <th>976</th>\n",
              "      <td>-117.58</td>\n",
              "      <td>34.11</td>\n",
              "      <td>14.0</td>\n",
              "      <td>11635.0</td>\n",
              "      <td>2055.0</td>\n",
              "      <td>6443.0</td>\n",
              "      <td>2009.0</td>\n",
              "      <td>4.7547</td>\n",
              "      <td>157600.0</td>\n",
              "    </tr>\n",
              "    <tr>\n",
              "      <th>978</th>\n",
              "      <td>-121.53</td>\n",
              "      <td>38.48</td>\n",
              "      <td>5.0</td>\n",
              "      <td>27870.0</td>\n",
              "      <td>5027.0</td>\n",
              "      <td>11935.0</td>\n",
              "      <td>4855.0</td>\n",
              "      <td>4.8811</td>\n",
              "      <td>212200.0</td>\n",
              "    </tr>\n",
              "    <tr>\n",
              "      <th>1033</th>\n",
              "      <td>-118.24</td>\n",
              "      <td>33.85</td>\n",
              "      <td>25.0</td>\n",
              "      <td>9594.0</td>\n",
              "      <td>1489.0</td>\n",
              "      <td>5237.0</td>\n",
              "      <td>1496.0</td>\n",
              "      <td>5.9684</td>\n",
              "      <td>193300.0</td>\n",
              "    </tr>\n",
              "    <tr>\n",
              "      <th>1083</th>\n",
              "      <td>-118.60</td>\n",
              "      <td>34.13</td>\n",
              "      <td>20.0</td>\n",
              "      <td>14291.0</td>\n",
              "      <td>1934.0</td>\n",
              "      <td>5452.0</td>\n",
              "      <td>1875.0</td>\n",
              "      <td>9.1232</td>\n",
              "      <td>472000.0</td>\n",
              "    </tr>\n",
              "    <tr>\n",
              "      <th>1146</th>\n",
              "      <td>-117.27</td>\n",
              "      <td>33.15</td>\n",
              "      <td>4.0</td>\n",
              "      <td>23915.0</td>\n",
              "      <td>4135.0</td>\n",
              "      <td>10877.0</td>\n",
              "      <td>3958.0</td>\n",
              "      <td>4.6357</td>\n",
              "      <td>244900.0</td>\n",
              "    </tr>\n",
              "    <tr>\n",
              "      <th>1283</th>\n",
              "      <td>-117.18</td>\n",
              "      <td>32.92</td>\n",
              "      <td>4.0</td>\n",
              "      <td>15025.0</td>\n",
              "      <td>2616.0</td>\n",
              "      <td>7560.0</td>\n",
              "      <td>2392.0</td>\n",
              "      <td>5.1960</td>\n",
              "      <td>210700.0</td>\n",
              "    </tr>\n",
              "    <tr>\n",
              "      <th>1352</th>\n",
              "      <td>-121.87</td>\n",
              "      <td>37.42</td>\n",
              "      <td>19.0</td>\n",
              "      <td>12128.0</td>\n",
              "      <td>2112.0</td>\n",
              "      <td>6810.0</td>\n",
              "      <td>2040.0</td>\n",
              "      <td>6.4419</td>\n",
              "      <td>264500.0</td>\n",
              "    </tr>\n",
              "    <tr>\n",
              "      <th>1386</th>\n",
              "      <td>-117.25</td>\n",
              "      <td>33.93</td>\n",
              "      <td>8.0</td>\n",
              "      <td>10110.0</td>\n",
              "      <td>1761.0</td>\n",
              "      <td>5804.0</td>\n",
              "      <td>1703.0</td>\n",
              "      <td>4.2654</td>\n",
              "      <td>137600.0</td>\n",
              "    </tr>\n",
              "    <tr>\n",
              "      <th>1554</th>\n",
              "      <td>-117.71</td>\n",
              "      <td>34.02</td>\n",
              "      <td>17.0</td>\n",
              "      <td>12689.0</td>\n",
              "      <td>2426.0</td>\n",
              "      <td>7343.0</td>\n",
              "      <td>2230.0</td>\n",
              "      <td>3.6361</td>\n",
              "      <td>157700.0</td>\n",
              "    </tr>\n",
              "    <tr>\n",
              "      <th>1563</th>\n",
              "      <td>-118.44</td>\n",
              "      <td>33.98</td>\n",
              "      <td>21.0</td>\n",
              "      <td>18132.0</td>\n",
              "      <td>5419.0</td>\n",
              "      <td>7431.0</td>\n",
              "      <td>4930.0</td>\n",
              "      <td>5.3359</td>\n",
              "      <td>500001.0</td>\n",
              "    </tr>\n",
              "    <tr>\n",
              "      <th>1597</th>\n",
              "      <td>-117.12</td>\n",
              "      <td>33.49</td>\n",
              "      <td>4.0</td>\n",
              "      <td>21988.0</td>\n",
              "      <td>4055.0</td>\n",
              "      <td>8824.0</td>\n",
              "      <td>3252.0</td>\n",
              "      <td>3.9963</td>\n",
              "      <td>191100.0</td>\n",
              "    </tr>\n",
              "    <tr>\n",
              "      <th>1795</th>\n",
              "      <td>-117.10</td>\n",
              "      <td>33.09</td>\n",
              "      <td>5.0</td>\n",
              "      <td>12045.0</td>\n",
              "      <td>2162.0</td>\n",
              "      <td>5640.0</td>\n",
              "      <td>1997.0</td>\n",
              "      <td>4.4375</td>\n",
              "      <td>353000.0</td>\n",
              "    </tr>\n",
              "    <tr>\n",
              "      <th>1976</th>\n",
              "      <td>-117.70</td>\n",
              "      <td>33.48</td>\n",
              "      <td>6.0</td>\n",
              "      <td>16590.0</td>\n",
              "      <td>2696.0</td>\n",
              "      <td>6223.0</td>\n",
              "      <td>2357.0</td>\n",
              "      <td>6.3088</td>\n",
              "      <td>340300.0</td>\n",
              "    </tr>\n",
              "    <tr>\n",
              "      <th>2014</th>\n",
              "      <td>-117.22</td>\n",
              "      <td>32.86</td>\n",
              "      <td>4.0</td>\n",
              "      <td>16289.0</td>\n",
              "      <td>4585.0</td>\n",
              "      <td>7604.0</td>\n",
              "      <td>4176.0</td>\n",
              "      <td>3.6287</td>\n",
              "      <td>280800.0</td>\n",
              "    </tr>\n",
              "    <tr>\n",
              "      <th>2186</th>\n",
              "      <td>-116.14</td>\n",
              "      <td>34.45</td>\n",
              "      <td>12.0</td>\n",
              "      <td>8796.0</td>\n",
              "      <td>1721.0</td>\n",
              "      <td>11139.0</td>\n",
              "      <td>1680.0</td>\n",
              "      <td>2.2612</td>\n",
              "      <td>137500.0</td>\n",
              "    </tr>\n",
              "    <tr>\n",
              "      <th>2321</th>\n",
              "      <td>-121.15</td>\n",
              "      <td>38.69</td>\n",
              "      <td>52.0</td>\n",
              "      <td>240.0</td>\n",
              "      <td>44.0</td>\n",
              "      <td>6675.0</td>\n",
              "      <td>29.0</td>\n",
              "      <td>6.1359</td>\n",
              "      <td>225000.0</td>\n",
              "    </tr>\n",
              "    <tr>\n",
              "      <th>2429</th>\n",
              "      <td>-117.20</td>\n",
              "      <td>33.58</td>\n",
              "      <td>2.0</td>\n",
              "      <td>30450.0</td>\n",
              "      <td>5033.0</td>\n",
              "      <td>9419.0</td>\n",
              "      <td>3197.0</td>\n",
              "      <td>4.5936</td>\n",
              "      <td>174300.0</td>\n",
              "    </tr>\n",
              "    <tr>\n",
              "      <th>2430</th>\n",
              "      <td>-120.50</td>\n",
              "      <td>37.37</td>\n",
              "      <td>18.0</td>\n",
              "      <td>8606.0</td>\n",
              "      <td>1678.0</td>\n",
              "      <td>5303.0</td>\n",
              "      <td>1644.0</td>\n",
              "      <td>2.4012</td>\n",
              "      <td>79700.0</td>\n",
              "    </tr>\n",
              "    <tr>\n",
              "      <th>2452</th>\n",
              "      <td>-117.64</td>\n",
              "      <td>33.87</td>\n",
              "      <td>2.0</td>\n",
              "      <td>17470.0</td>\n",
              "      <td>2727.0</td>\n",
              "      <td>5964.0</td>\n",
              "      <td>1985.0</td>\n",
              "      <td>6.2308</td>\n",
              "      <td>257900.0</td>\n",
              "    </tr>\n",
              "    <tr>\n",
              "      <th>2616</th>\n",
              "      <td>-121.42</td>\n",
              "      <td>38.49</td>\n",
              "      <td>17.0</td>\n",
              "      <td>13180.0</td>\n",
              "      <td>2444.0</td>\n",
              "      <td>7235.0</td>\n",
              "      <td>2335.0</td>\n",
              "      <td>3.3630</td>\n",
              "      <td>103000.0</td>\n",
              "    </tr>\n",
              "    <tr>\n",
              "      <th>2663</th>\n",
              "      <td>-118.11</td>\n",
              "      <td>34.02</td>\n",
              "      <td>17.0</td>\n",
              "      <td>9559.0</td>\n",
              "      <td>1911.0</td>\n",
              "      <td>5279.0</td>\n",
              "      <td>1844.0</td>\n",
              "      <td>5.1515</td>\n",
              "      <td>318900.0</td>\n",
              "    </tr>\n",
              "    <tr>\n",
              "      <th>2924</th>\n",
              "      <td>-117.23</td>\n",
              "      <td>32.88</td>\n",
              "      <td>18.0</td>\n",
              "      <td>5566.0</td>\n",
              "      <td>1465.0</td>\n",
              "      <td>6303.0</td>\n",
              "      <td>1458.0</td>\n",
              "      <td>1.8580</td>\n",
              "      <td>205000.0</td>\n",
              "    </tr>\n",
              "    <tr>\n",
              "      <th>2936</th>\n",
              "      <td>-119.75</td>\n",
              "      <td>36.87</td>\n",
              "      <td>3.0</td>\n",
              "      <td>13802.0</td>\n",
              "      <td>2244.0</td>\n",
              "      <td>5226.0</td>\n",
              "      <td>1972.0</td>\n",
              "      <td>5.0941</td>\n",
              "      <td>143700.0</td>\n",
              "    </tr>\n",
              "  </tbody>\n",
              "</table>\n",
              "</div>\n",
              "      <button class=\"colab-df-convert\" onclick=\"convertToInteractive('df-1abddd96-6acd-4175-8f9a-011a863e6e8d')\"\n",
              "              title=\"Convert this dataframe to an interactive table.\"\n",
              "              style=\"display:none;\">\n",
              "        \n",
              "  <svg xmlns=\"http://www.w3.org/2000/svg\" height=\"24px\"viewBox=\"0 0 24 24\"\n",
              "       width=\"24px\">\n",
              "    <path d=\"M0 0h24v24H0V0z\" fill=\"none\"/>\n",
              "    <path d=\"M18.56 5.44l.94 2.06.94-2.06 2.06-.94-2.06-.94-.94-2.06-.94 2.06-2.06.94zm-11 1L8.5 8.5l.94-2.06 2.06-.94-2.06-.94L8.5 2.5l-.94 2.06-2.06.94zm10 10l.94 2.06.94-2.06 2.06-.94-2.06-.94-.94-2.06-.94 2.06-2.06.94z\"/><path d=\"M17.41 7.96l-1.37-1.37c-.4-.4-.92-.59-1.43-.59-.52 0-1.04.2-1.43.59L10.3 9.45l-7.72 7.72c-.78.78-.78 2.05 0 2.83L4 21.41c.39.39.9.59 1.41.59.51 0 1.02-.2 1.41-.59l7.78-7.78 2.81-2.81c.8-.78.8-2.07 0-2.86zM5.41 20L4 18.59l7.72-7.72 1.47 1.35L5.41 20z\"/>\n",
              "  </svg>\n",
              "      </button>\n",
              "      \n",
              "  <style>\n",
              "    .colab-df-container {\n",
              "      display:flex;\n",
              "      flex-wrap:wrap;\n",
              "      gap: 12px;\n",
              "    }\n",
              "\n",
              "    .colab-df-convert {\n",
              "      background-color: #E8F0FE;\n",
              "      border: none;\n",
              "      border-radius: 50%;\n",
              "      cursor: pointer;\n",
              "      display: none;\n",
              "      fill: #1967D2;\n",
              "      height: 32px;\n",
              "      padding: 0 0 0 0;\n",
              "      width: 32px;\n",
              "    }\n",
              "\n",
              "    .colab-df-convert:hover {\n",
              "      background-color: #E2EBFA;\n",
              "      box-shadow: 0px 1px 2px rgba(60, 64, 67, 0.3), 0px 1px 3px 1px rgba(60, 64, 67, 0.15);\n",
              "      fill: #174EA6;\n",
              "    }\n",
              "\n",
              "    [theme=dark] .colab-df-convert {\n",
              "      background-color: #3B4455;\n",
              "      fill: #D2E3FC;\n",
              "    }\n",
              "\n",
              "    [theme=dark] .colab-df-convert:hover {\n",
              "      background-color: #434B5C;\n",
              "      box-shadow: 0px 1px 3px 1px rgba(0, 0, 0, 0.15);\n",
              "      filter: drop-shadow(0px 1px 2px rgba(0, 0, 0, 0.3));\n",
              "      fill: #FFFFFF;\n",
              "    }\n",
              "  </style>\n",
              "\n",
              "      <script>\n",
              "        const buttonEl =\n",
              "          document.querySelector('#df-1abddd96-6acd-4175-8f9a-011a863e6e8d button.colab-df-convert');\n",
              "        buttonEl.style.display =\n",
              "          google.colab.kernel.accessAllowed ? 'block' : 'none';\n",
              "\n",
              "        async function convertToInteractive(key) {\n",
              "          const element = document.querySelector('#df-1abddd96-6acd-4175-8f9a-011a863e6e8d');\n",
              "          const dataTable =\n",
              "            await google.colab.kernel.invokeFunction('convertToInteractive',\n",
              "                                                     [key], {});\n",
              "          if (!dataTable) return;\n",
              "\n",
              "          const docLinkHtml = 'Like what you see? Visit the ' +\n",
              "            '<a target=\"_blank\" href=https://colab.research.google.com/notebooks/data_table.ipynb>data table notebook</a>'\n",
              "            + ' to learn more about interactive tables.';\n",
              "          element.innerHTML = '';\n",
              "          dataTable['output_type'] = 'display_data';\n",
              "          await google.colab.output.renderOutput(dataTable, element);\n",
              "          const docLink = document.createElement('div');\n",
              "          docLink.innerHTML = docLinkHtml;\n",
              "          element.appendChild(docLink);\n",
              "        }\n",
              "      </script>\n",
              "    </div>\n",
              "  </div>\n",
              "  "
            ],
            "text/plain": [
              "      longitude  latitude  ...  median_income  median_house_value\n",
              "33      -118.08     34.55  ...         4.5237            141800.0\n",
              "142     -117.98     34.10  ...         3.7727            159700.0\n",
              "321     -121.73     37.68  ...         5.4496            238900.0\n",
              "405     -120.67     35.62  ...         3.8661            168100.0\n",
              "607     -116.19     33.69  ...         2.5383             74000.0\n",
              "887     -117.04     32.70  ...         4.4190            156900.0\n",
              "900     -117.22     32.95  ...         6.3570            322500.0\n",
              "947     -117.23     33.91  ...         4.0473            127200.0\n",
              "976     -117.58     34.11  ...         4.7547            157600.0\n",
              "978     -121.53     38.48  ...         4.8811            212200.0\n",
              "1033    -118.24     33.85  ...         5.9684            193300.0\n",
              "1083    -118.60     34.13  ...         9.1232            472000.0\n",
              "1146    -117.27     33.15  ...         4.6357            244900.0\n",
              "1283    -117.18     32.92  ...         5.1960            210700.0\n",
              "1352    -121.87     37.42  ...         6.4419            264500.0\n",
              "1386    -117.25     33.93  ...         4.2654            137600.0\n",
              "1554    -117.71     34.02  ...         3.6361            157700.0\n",
              "1563    -118.44     33.98  ...         5.3359            500001.0\n",
              "1597    -117.12     33.49  ...         3.9963            191100.0\n",
              "1795    -117.10     33.09  ...         4.4375            353000.0\n",
              "1976    -117.70     33.48  ...         6.3088            340300.0\n",
              "2014    -117.22     32.86  ...         3.6287            280800.0\n",
              "2186    -116.14     34.45  ...         2.2612            137500.0\n",
              "2321    -121.15     38.69  ...         6.1359            225000.0\n",
              "2429    -117.20     33.58  ...         4.5936            174300.0\n",
              "2430    -120.50     37.37  ...         2.4012             79700.0\n",
              "2452    -117.64     33.87  ...         6.2308            257900.0\n",
              "2616    -121.42     38.49  ...         3.3630            103000.0\n",
              "2663    -118.11     34.02  ...         5.1515            318900.0\n",
              "2924    -117.23     32.88  ...         1.8580            205000.0\n",
              "2936    -119.75     36.87  ...         5.0941            143700.0\n",
              "\n",
              "[31 rows x 9 columns]"
            ]
          },
          "metadata": {},
          "execution_count": 10
        }
      ]
    },
    {
      "cell_type": "code",
      "source": [
        ""
      ],
      "metadata": {
        "id": "UaU-O21DxZgE"
      },
      "execution_count": null,
      "outputs": []
    }
  ]
}
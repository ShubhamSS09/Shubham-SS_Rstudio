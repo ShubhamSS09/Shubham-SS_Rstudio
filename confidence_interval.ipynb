{
  "nbformat": 4,
  "nbformat_minor": 0,
  "metadata": {
    "colab": {
      "name": "confidence interval.ipynb",
      "provenance": [],
      "authorship_tag": "ABX9TyPdcEIhtLe99XbAKpCw9MJA",
      "include_colab_link": true
    },
    "kernelspec": {
      "name": "python3",
      "display_name": "Python 3"
    },
    "language_info": {
      "name": "python"
    }
  },
  "cells": [
    {
      "cell_type": "markdown",
      "metadata": {
        "id": "view-in-github",
        "colab_type": "text"
      },
      "source": [
        "<a href=\"https://colab.research.google.com/github/ShubhamSS09/Shubham-SS_Rstudio/blob/main/confidence_interval.ipynb\" target=\"_parent\"><img src=\"https://colab.research.google.com/assets/colab-badge.svg\" alt=\"Open In Colab\"/></a>"
      ]
    },
    {
      "cell_type": "code",
      "execution_count": null,
      "metadata": {
        "id": "HLM-82x3MJie"
      },
      "outputs": [],
      "source": [
        "from scipy import stats\n",
        "import pandas as pd\n",
        "import numpy as np"
      ]
    },
    {
      "cell_type": "code",
      "source": [
        "glaxo_df = pd.read_csv(\"glaxo_df.csv\")"
      ],
      "metadata": {
        "id": "WoUgQJNMM685"
      },
      "execution_count": null,
      "outputs": []
    },
    {
      "cell_type": "code",
      "source": [
        "glaxo_df"
      ],
      "metadata": {
        "id": "xL-bU0-EOKJA"
      },
      "execution_count": null,
      "outputs": []
    },
    {
      "cell_type": "code",
      "source": [
        "glaxo_df_ci = stats.norm.interval(0.95,\n",
        "loc= glaxo_df.gain.mean(),\n",
        "scale= glaxo_df.gain.std())\n",
        "print('Gain at 95% confidence interval is: ', np.round (glaxo_df_ci, 4))"
      ],
      "metadata": {
        "colab": {
          "base_uri": "https://localhost:8080/"
        },
        "id": "nEfoFJ_BNTt9",
        "outputId": "90e31135-9454-432c-927b-ef0db7d2bcce"
      },
      "execution_count": null,
      "outputs": [
        {
          "output_type": "stream",
          "name": "stdout",
          "text": [
            "Gain at 95% confidence interval is:  [-0.0258  0.0266]\n"
          ]
        }
      ]
    },
    {
      "cell_type": "code",
      "source": [
        "beml_df=pd.read_csv(\"beml_df.csv\")\n",
        "\n",
        "beml_df_ci = stats.norm.interval(0.95,\n",
        "loc= beml_df.gain.mean(),\n",
        "scale= beml_df.gain.std())\n",
        "print('Gain at 95% confidence interval is: ', np.round (beml_df_ci, 5))                             "
      ],
      "metadata": {
        "colab": {
          "base_uri": "https://localhost:8080/"
        },
        "id": "RP9th1YzPSXQ",
        "outputId": "df578c02-712a-41c1-827f-6742becb40b1"
      },
      "execution_count": null,
      "outputs": [
        {
          "output_type": "stream",
          "name": "stdout",
          "text": [
            "Gain at 95% confidence interval is:  [-0.05153  0.05207]\n"
          ]
        }
      ]
    },
    {
      "cell_type": "code",
      "source": [
        "beml_df_ci, np.round(beml_df_ci, 4)"
      ],
      "metadata": {
        "colab": {
          "base_uri": "https://localhost:8080/"
        },
        "id": "tcY6aEI1P5qK",
        "outputId": "9003c9c9-8ffa-4d4d-c8b6-f492a8cfd91e"
      },
      "execution_count": null,
      "outputs": [
        {
          "output_type": "execute_result",
          "data": {
            "text/plain": [
              "((-0.05153272968060135, 0.052074225838715835), array([-0.0515,  0.0521]))"
            ]
          },
          "metadata": {},
          "execution_count": 19
        }
      ]
    },
    {
      "cell_type": "markdown",
      "source": [
        "## Hypothesis testing"
      ],
      "metadata": {
        "id": "IAYXskC1nyJP"
      }
    },
    {
      "cell_type": "code",
      "source": [
        "from scipy import stats\n",
        "import numpy as np"
      ],
      "metadata": {
        "id": "wXalRrOyQDYi"
      },
      "execution_count": 12,
      "outputs": []
    },
    {
      "cell_type": "code",
      "source": [
        "t  = (3.8-4)/(3/np.sqrt(50))    #t values for sample mean x bar is 3.8"
      ],
      "metadata": {
        "id": "3BJkN-EJpg5d"
      },
      "execution_count": 18,
      "outputs": []
    },
    {
      "cell_type": "code",
      "source": [
        "t"
      ],
      "metadata": {
        "colab": {
          "base_uri": "https://localhost:8080/"
        },
        "id": "vgHRPQ0Dnxf2",
        "outputId": "b8fdada7-24e0-4707-e291-953713bc0a5c"
      },
      "execution_count": 19,
      "outputs": [
        {
          "output_type": "execute_result",
          "data": {
            "text/plain": [
              "-0.4714045207910321"
            ]
          },
          "metadata": {},
          "execution_count": 19
        }
      ]
    },
    {
      "cell_type": "code",
      "source": [
        "2*stats.t.cdf(-0.47, df=49)      "
      ],
      "metadata": {
        "colab": {
          "base_uri": "https://localhost:8080/"
        },
        "id": "Me8h6ifhp0Q_",
        "outputId": "787ba6f5-77ca-4302-dd31-737360a41c0d"
      },
      "execution_count": 20,
      "outputs": [
        {
          "output_type": "execute_result",
          "data": {
            "text/plain": [
              "0.640440149558531"
            ]
          },
          "metadata": {},
          "execution_count": 20
        }
      ]
    },
    {
      "cell_type": "markdown",
      "source": [
        "Here 0.64 > 0.05  (P> α)"
      ],
      "metadata": {
        "id": "z5LzqUsXqPUn"
      }
    },
    {
      "cell_type": "code",
      "source": [
        ""
      ],
      "metadata": {
        "id": "QnJb-5ALqISo"
      },
      "execution_count": null,
      "outputs": []
    }
  ]
}